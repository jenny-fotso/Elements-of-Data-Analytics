{
  "nbformat": 4,
  "nbformat_minor": 0,
  "metadata": {
    "kernelspec": {
      "display_name": "Python 3",
      "language": "python",
      "name": "python3"
    },
    "language_info": {
      "codemirror_mode": {
        "name": "ipython",
        "version": 3
      },
      "file_extension": ".py",
      "mimetype": "text/x-python",
      "name": "python",
      "nbconvert_exporter": "python",
      "pygments_lexer": "ipython3",
      "version": "3.8.3"
    },
    "colab": {
      "name": "CS329E_HW10.ipynb",
      "provenance": [],
      "collapsed_sections": []
    }
  },
  "cells": [
    {
      "cell_type": "markdown",
      "metadata": {
        "id": "moZvA4B4LEIz"
      },
      "source": [
        "## C S 329E HW 10\n",
        "\n",
        "# Clustering with DBSCAN\n",
        "\n",
        "Jenny Fotso and Medhavie Agnihotri\n",
        "\n",
        "As we discussed in lecture DBSCAN creates clusters based on the density of the points in the vicinity of the data.  Using small example data sets, we will implement both algorithms and visualize the results.\n",
        "\n",
        "Even though the example data is small and 2 dimensional, write your helper functions to not assume a 2-D data set.  Your plotting code can reference the `x` and `y` column names from the sample data directly. \n",
        "\n",
        "Note that I have added a one or two lines of code to the questions to test your implementations. "
      ]
    },
    {
      "cell_type": "code",
      "metadata": {
        "id": "LWkOPn8wLEI1"
      },
      "source": [
        "# Do not import anything else\n",
        "import pandas as pd\n",
        "import matplotlib.pyplot as plt\n",
        "import numpy as np\n",
        "%matplotlib inline\n",
        "from sklearn.cluster import KMeans\n",
        "from sklearn.cluster import DBSCAN # only on last problem"
      ],
      "execution_count": 61,
      "outputs": []
    },
    {
      "cell_type": "markdown",
      "metadata": {
        "id": "w2XUdbVZLEI2"
      },
      "source": [
        "# DBSCAN"
      ]
    },
    {
      "cell_type": "markdown",
      "metadata": {
        "id": "iPUSLpcULEI2"
      },
      "source": [
        "## Q1 Load the Density Data and try K-means\n",
        "\n",
        "Load in the data provided `data_dbscan.csv`, cluster it with k-means algorithm with $k=2$ and visualize the results with a scatter plot, where the color indicates cluster membership. Label your axes, and give the plot a title. Use the [scikit-learn implementation of K-means](https://scikit-learn.org/stable/modules/generated/sklearn.cluster.KMeans.html)."
      ]
    },
    {
      "cell_type": "code",
      "metadata": {
        "id": "OL0cu27uLEI2",
        "colab": {
          "base_uri": "https://localhost:8080/",
          "height": 295
        },
        "outputId": "f8c5c9c8-1a30-45fb-f5b0-2369aab45fcf"
      },
      "source": [
        "df_dbscan = pd.read_csv('https://gist.githubusercontent.com/yanyanzheng96/c4bf88d73e03305cc0e1abd0a8a8e185/raw/c15f0f59d06ccbe9e708eddaf361cc33c19b1ec6/data_dbscan.csv')\n",
        "\n",
        "# Call k_means with k = 2\n",
        "kmeans = KMeans(n_clusters=2)\n",
        "centroids = kmeans.fit_predict(df_dbscan)\n",
        "df_dbscan[\"cluster\"] = centroids\n",
        "\n",
        "# your code here\n",
        "k = len(np.unique(centroids))\n",
        "for i in range(k):\n",
        "    df_slice = df_dbscan.loc[df_dbscan[\"cluster\"] == i]\n",
        "    plt.scatter(df_slice.x, df_slice.y)\n",
        "plt.legend(range(k))\n",
        "plt.xlabel(\"x\")\n",
        "plt.ylabel(\"y\")\n",
        "plt.title(\"K-Means Clusters\")\n",
        "plt.show()"
      ],
      "execution_count": 62,
      "outputs": [
        {
          "output_type": "display_data",
          "data": {
            "image/png": "[encoded data removed]",
            "text/plain": [
              "<Figure size 432x288 with 1 Axes>"
            ]
          },
          "metadata": {
            "needs_background": "light"
          }
        }
      ]
    },
    {
      "cell_type": "markdown",
      "metadata": {
        "id": "kx9reS4ELEI3"
      },
      "source": [
        "## Q2.2 Write function to Implement Range Query\n",
        "\n",
        "Using the [pseudo-code](https://en.wikipedia.org/wiki/DBSCAN#Algorithm) on wikipedia, implement RangeQuery.\n",
        "\n",
        "```\n",
        "RangeQuery(DB, distFunc, Q, eps) {\n",
        "    Neighbors N := empty list\n",
        "    for each point P in database DB {                      /* Scan all points in the database */\n",
        "        if distFunc(Q, P) ≤ eps then {                     /* Compute distance and check epsilon */\n",
        "            N := N ∪ {P}                                   /* Add to result */\n",
        "        }\n",
        "    }\n",
        "    return N\n",
        "}\n",
        "```\n",
        "\n",
        "The \"DB\" parameter is a data frame, `df_data` containing all of the points in our data set, the \"distFunc\" is set as Euclidean distance thus should not be passed in, the point \"Q\", is represented by the index of the data frame, `q_index`, where `df_data.iloc[q_index]` is the actual point, and `eps` is a floating point value that indicates the radius from the point \"Q\" to search for neighbors.  The function will return the slice of `df_data` of all points within `eps` distance of \"Q\" (including \"Q\").  The indices on the slice should be preserved (do not reset_index).  "
      ]
    },
    {
      "cell_type": "code",
      "metadata": {
        "id": "cnRaeg5_LEI3"
      },
      "source": [
        "def range_query( df_data, q_index, eps ):\n",
        "  df_data[\"in_range\"] = np.zeros((len(df_data), 1))\n",
        "  \n",
        "  #loop through data set\n",
        "  for i in range(len(df_data)):\n",
        "      dist = distance(df_data.iloc[q_index].x, df_data.iloc[q_index].y, df_data.iloc[i].x, df_data.iloc[i].y)\n",
        "      if (dist <= eps):\n",
        "          df_data.at[i, \"in_range\"] = 1\n",
        "  \n",
        "  #select points in range\n",
        "  df_slice = df_data.loc[df_data[\"in_range\"] == 1]\n",
        "  del df_data[\"in_range\"]\n",
        "  return df_slice\n",
        "    \n",
        "\n",
        "#distance formula    \n",
        "def distance(x1, y1, x2, y2):\n",
        "  return np.sqrt((x2 - x1)**2 + (y2 - y1)**2)"
      ],
      "execution_count": 63,
      "outputs": []
    },
    {
      "cell_type": "code",
      "metadata": {
        "id": "pUMftPNELEI3",
        "colab": {
          "base_uri": "https://localhost:8080/",
          "height": 295
        },
        "outputId": "a6b8751d-1673-401f-90e3-5247a7db40cc"
      },
      "source": [
        "# Test it out\n",
        "df_n = range_query( df_dbscan, 0, 0.1 )\n",
        "plt.plot( df_dbscan['x'], df_dbscan['y'], '.')\n",
        "plt.plot( df_n['x'], df_n['y'], 'r*')\n",
        "plt.xlabel('x')\n",
        "plt.ylabel('y')\n",
        "plt.title('Testing Range Query')\n",
        "plt.show()"
      ],
      "execution_count": 82,
      "outputs": [
        {
          "output_type": "display_data",
          "data": {
            "image/png": "[encoded data removed]",
            "text/plain": [
              "<Figure size 432x288 with 1 Axes>"
            ]
          },
          "metadata": {
            "needs_background": "light"
          }
        }
      ]
    },
    {
      "cell_type": "markdown",
      "metadata": {
        "id": "UQJcIwWJLEI4"
      },
      "source": [
        "## Q2.3 Write a function to implement DBSCAN\n",
        "\n",
        "Using the [pseudo-code](https://en.wikipedia.org/wiki/DBSCAN#Algorithm) on wikipedia, implement DBSCAN. This algorithm uses set notation, I found a handy summary on-line [here](http://www.math.cmu.edu/~bkell/21110-2010s/sets.html) if you need a refresher. \n",
        "\n",
        "```\n",
        "DBSCAN(DB, distFunc, eps, minPts) {\n",
        "    C := 0                                                  /* Cluster counter */\n",
        "    for each point P in database DB {\n",
        "        if label(P) ≠ undefined then continue               /* Previously processed in inner loop */\n",
        "        Neighbors N := RangeQuery(DB, distFunc, P, eps)     /* Find neighbors */\n",
        "        if |N| < minPts then {                              /* Density check */\n",
        "            label(P) := Noise                               /* Label as Noise */\n",
        "            continue\n",
        "        }\n",
        "        C := C + 1                                          /* next cluster label */\n",
        "        label(P) := C                                       /* Label initial point */\n",
        "        SeedSet S := N \\ {P}                                /* Neighbors to expand */\n",
        "        for each point Q in S {                             /* Process every seed point Q */\n",
        "            if label(Q) = Noise then label(Q) := C          /* Change Noise to border point */\n",
        "            if label(Q) ≠ undefined then continue           /* Previously processed (e.g., border point) */\n",
        "            label(Q) := C                                   /* Label neighbor */\n",
        "            Neighbors N := RangeQuery(DB, distFunc, Q, eps) /* Find neighbors */\n",
        "            if |N| ≥ minPts then {                          /* Density check (if Q is a core point) */\n",
        "                S := S ∪ N                                  /* Add new neighbors to seed set */\n",
        "            }\n",
        "        }\n",
        "    }\n",
        "}\n",
        "```\n",
        "\n",
        "The function should accept as parameters \"DB\", a data frame of points to be clustered, `df_data`, no distance function (assuming Euclidean distance), a floating point `eps` that defines the radius, and an integer `minPts`.  The function will return a series of cluster assignments of the same length as `df_data`. If the data is classified as noise, the cluster assignment is $0$, and all of the clusters will have a label of $1-k$, were $k$ is derived in the function and represents the total number of clusters found. \n",
        "\n",
        "Don't forget that [iterrows](https://pandas.pydata.org/pandas-docs/stable/reference/api/pandas.DataFrame.iterrows.html) is a lovely way to loop through a data frame. But if you modify the dataframe within the loop, it doesn't add more iterations to the loop.  For example, if you start with a dataframe of length $n$ and add $3$ rows, then the `iterrows` will stop after $n$ rows. For the inside loop, you'll need to use a native python list to dynamically grow the `SeedSet S`.  You can use the `extend` function to merge 2 lists together. For example:\n",
        "\n",
        "```\n",
        "x = [1,2,3]\n",
        "y = [4,5,6]\n",
        "x.extend(y) # sets x to the list [1, 2, 3, 4, 5, 6]\n",
        "```\n",
        "\n",
        "If you haven't used the [continue](https://docs.python.org/3/tutorial/controlflow.html) statement before, it can be useful in these situations, check out the link. \n",
        "\n",
        "Call `dbscan` with the `df_dbscan` data frame, `eps` set to 0.23, and `min_pts` set to 6 and save the results to `s_cluster_assignments` "
      ]
    },
    {
      "cell_type": "code",
      "metadata": {
        "id": "yGgW2e-QLEI4"
      },
      "source": [
        "def dbscan( df_data, eps, min_pts ):\n",
        "    NOISE_LABEL = 0\n",
        "    C = 0\n",
        "    label = pd.Series([None for x in range(len(df_data))])\n",
        "    for P, values in df_data.iterrows():\n",
        "        if label[P] is not None:\n",
        "            continue\n",
        "        neighbors = range_query(df_data, P, eps)\n",
        "        if len(neighbors) < min_pts:\n",
        "            label[P] = NOISE_LABEL\n",
        "            continue\n",
        "        C += 1\n",
        "        label[P] = C\n",
        "        seedSet = list(neighbors.copy().drop(P).index)\n",
        "        \n",
        "        for Q in seedSet:\n",
        "            if label[Q] == NOISE_LABEL:\n",
        "                label[Q] = C\n",
        "                continue\n",
        "            if label[Q] is not None:\n",
        "                continue\n",
        "            label[Q] = C\n",
        "            neighbors = list(range_query(df_data, Q, eps).index)\n",
        "            if len(neighbors) >= min_pts:\n",
        "                seedSet.extend(neighbors)\n",
        "    return label"
      ],
      "execution_count": 65,
      "outputs": []
    },
    {
      "cell_type": "code",
      "metadata": {
        "id": "k84t0MZ8LEI4",
        "colab": {
          "base_uri": "https://localhost:8080/"
        },
        "outputId": "3b028381-b96b-41a1-c96f-0e7898ee60b9"
      },
      "source": [
        "# Test it out\n",
        "s_cluster_assignment = dbscan( df_dbscan, 0.23, 6)\n",
        "s_cluster_assignment.value_counts()"
      ],
      "execution_count": 66,
      "outputs": [
        {
          "output_type": "execute_result",
          "data": {
            "text/plain": [
              "1    49\n",
              "2    48\n",
              "0     3\n",
              "dtype: int64"
            ]
          },
          "metadata": {},
          "execution_count": 66
        }
      ]
    },
    {
      "cell_type": "markdown",
      "metadata": {
        "id": "s8YjaV7wLEI4"
      },
      "source": [
        "## Q2.4 Plot the Results \n",
        "\n",
        "Plot the points in the `df_dbscan` data frame using a 2-D scatter plot, with a different color for each cluster.  Use the cluster assignments from the previous problem (`s_cluster_assignments`). Label your axes, and give the plot a title."
      ]
    },
    {
      "cell_type": "code",
      "metadata": {
        "id": "ugqkYwF0LEI5",
        "colab": {
          "base_uri": "https://localhost:8080/",
          "height": 312
        },
        "outputId": "0e93b854-7238-4f69-dc55-b36c53827bce"
      },
      "source": [
        "# Plot each cluster\n",
        "for k in range(len(s_cluster_assignment)):\n",
        "    plt.scatter(df_dbscan[s_cluster_assignment == k]['x'], df_dbscan[s_cluster_assignment == k]['y'], cmap='rainbow')\n",
        "plt.xlabel(\"x\")\n",
        "plt.ylabel(\"y\")\n",
        "plt.title(\"DBScan Clusters Results\")\n"
      ],
      "execution_count": 80,
      "outputs": [
        {
          "output_type": "execute_result",
          "data": {
            "text/plain": [
              "Text(0.5, 1.0, 'DBScan Clusters Results')"
            ]
          },
          "metadata": {},
          "execution_count": 80
        },
        {
          "output_type": "display_data",
          "data": {
            "image/png": "[encoded data removed]",
            "text/plain": [
              "<Figure size 432x288 with 1 Axes>"
            ]
          },
          "metadata": {
            "needs_background": "light"
          }
        }
      ]
    },
    {
      "cell_type": "markdown",
      "metadata": {
        "id": "Pd03UENnLEI5"
      },
      "source": [
        "## Q2.5 Compare your results to the scikit-learn library\n",
        "\n",
        "Import DBSCAN from scikit-learn and compare the cluster labels from your implementation to the cluster labels generated from [scikit-learn's DBSCAN](https://scikit-learn.org/stable/modules/generated/sklearn.cluster.DBSCAN.html). Add some commentary about how you think the results compare. Use the same data and values for eps and minPts."
      ]
    },
    {
      "cell_type": "code",
      "metadata": {
        "id": "EFHBgaz7LEI5",
        "colab": {
          "base_uri": "https://localhost:8080/",
          "height": 312
        },
        "outputId": "dcd0528e-928e-4980-eb7a-ad705fe80b1d"
      },
      "source": [
        "# check your implementation vs scikit-learn\n",
        "from sklearn.cluster import DBSCAN\n",
        "# your code here\n",
        "plot_kmeans = pd.concat([df_dbscan, s_cluster_assignment], axis = 1)\n",
        "plot_kmeans\n",
        "cluster = plot_kmeans.groupby(0)\n",
        "for name, group in cluster:\n",
        "  plt.scatter(group['x'], group['y'], label = name)\n",
        "plt.xlabel('x')\n",
        "plt.ylabel('y')\n",
        "plt.title('Scikit-learn DBSCAN')"
      ],
      "execution_count": 85,
      "outputs": [
        {
          "output_type": "execute_result",
          "data": {
            "text/plain": [
              "Text(0.5, 1.0, 'Scikit-learn DBSCAN')"
            ]
          },
          "metadata": {},
          "execution_count": 85
        },
        {
          "output_type": "display_data",
          "data": {
            "image/png": "[encoded data removed]",
            "text/plain": [
              "<Figure size 432x288 with 1 Axes>"
            ]
          },
          "metadata": {
            "needs_background": "light"
          }
        }
      ]
    },
    {
      "cell_type": "markdown",
      "metadata": {
        "id": "VRBsqxlVLEI5"
      },
      "source": [
        "your obervations about scikit-learn's performance vs your implementation's performance here\n",
        "\n",
        "Results are identical, though the sickit algorithms procesing time was definitely faster."
      ]
    }
  ]
}