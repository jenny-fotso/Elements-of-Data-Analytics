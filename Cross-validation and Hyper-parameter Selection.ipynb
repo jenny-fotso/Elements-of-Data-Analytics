{
  "nbformat": 4,
  "nbformat_minor": 0,
  "metadata": {
    "kernelspec": {
      "display_name": "Python 3",
      "language": "python",
      "name": "python3"
    },
    "language_info": {
      "codemirror_mode": {
        "name": "ipython",
        "version": 3
      },
      "file_extension": ".py",
      "mimetype": "text/x-python",
      "name": "python",
      "nbconvert_exporter": "python",
      "pygments_lexer": "ipython3",
      "version": "3.8.8"
    },
    "colab": {
      "name": "CS329e_HW5-2.ipynb",
      "provenance": [],
      "collapsed_sections": []
    }
  },
  "cells": [
    {
      "cell_type": "markdown",
      "metadata": {
        "id": "JfuIVwk6VQNg"
      },
      "source": [
        "## C S 329E HW 5\n",
        "\n",
        "# Crossvalidation and hyperparameter selection\n",
        "\n",
        "## Jenny\n",
        "\n",
        "For this week's homework we are going to explore the cross validation testing methodology and applying that to get error estimates on the two algorithms we've used so far:\n",
        "  - Linear Regression\n",
        "  - Decision Tree classification\n",
        "  "
      ]
    },
    {
      "cell_type": "code",
      "metadata": {
        "id": "96E_96hMVRiM",
        "colab": {
          "base_uri": "https://localhost:8080/"
        },
        "outputId": "e5c5bfe2-45e1-4592-efa7-bce93d9f0091"
      },
      "source": [
        "# Google colab's default version of scikit-learn isn't the latest, so you will \n",
        "# need to update the virtual machine and restart the runtime\n",
        "!pip install scikit-learn==1.0"
      ],
      "execution_count": 1,
      "outputs": [
        {
          "output_type": "stream",
          "name": "stdout",
          "text": [
            "Collecting scikit-learn==1.0\n",
            "  Downloading scikit_learn-1.0-cp37-cp37m-manylinux_2_12_x86_64.manylinux2010_x86_64.whl (23.1 MB)\n",
            "\u001b[K     |████████████████████████████████| 23.1 MB 1.6 MB/s \n",
            "\u001b[?25hRequirement already satisfied: numpy>=1.14.6 in /usr/local/lib/python3.7/dist-packages (from scikit-learn==1.0) (1.19.5)\n",
            "Requirement already satisfied: threadpoolctl>=2.0.0 in /usr/local/lib/python3.7/dist-packages (from scikit-learn==1.0) (3.0.0)\n",
            "Requirement already satisfied: joblib>=0.11 in /usr/local/lib/python3.7/dist-packages (from scikit-learn==1.0) (1.1.0)\n",
            "Requirement already satisfied: scipy>=1.1.0 in /usr/local/lib/python3.7/dist-packages (from scikit-learn==1.0) (1.4.1)\n",
            "Installing collected packages: scikit-learn\n",
            "  Attempting uninstall: scikit-learn\n",
            "    Found existing installation: scikit-learn 1.0.2\n",
            "    Uninstalling scikit-learn-1.0.2:\n",
            "      Successfully uninstalled scikit-learn-1.0.2\n",
            "Successfully installed scikit-learn-1.0\n"
          ]
        }
      ]
    },
    {
      "cell_type": "code",
      "metadata": {
        "id": "PDHKJDFmVQNi"
      },
      "source": [
        "# import the libraries! If you want to add things here for visualization, please do, \n",
        "# but only use sklearn when prompted\n",
        "import pandas as pd\n",
        "import numpy as np\n",
        "from sklearn import tree \n",
        "from sklearn.datasets import load_iris\n",
        "from sklearn.datasets import load_diabetes"
      ],
      "execution_count": 2,
      "outputs": []
    },
    {
      "cell_type": "markdown",
      "metadata": {
        "id": "LZs2nuNbVQNj"
      },
      "source": [
        "# Part 1 - Calculate Generalized Error on Linear Regression with k-fold Cross Validation"
      ]
    },
    {
      "cell_type": "markdown",
      "metadata": {
        "id": "-JVk1iaWVQNk"
      },
      "source": [
        "## Q1.1 Load in the diabetes data set as a pandas dataframe and series.  \n",
        "Documentation on the data set is [here](https://scikit-learn.org/stable/modules/generated/sklearn.datasets.load_diabetes.html).  Name your features dataframe (the independent variables) `df_X` and your target value (the dependent variable) series `s_y`"
      ]
    },
    {
      "cell_type": "code",
      "metadata": {
        "id": "VQVbOpO9VQNk"
      },
      "source": [
        "df = load_diabetes()\n",
        "df_X = df['data']\n",
        "s_y = df['target']"
      ],
      "execution_count": 3,
      "outputs": []
    },
    {
      "cell_type": "markdown",
      "metadata": {
        "id": "hzgW4G5SVQNk"
      },
      "source": [
        "## Q1.2 Define a function that creates a linear least squares regression model and a function to predict a continuous value given a linear regression model\n",
        "The first function should take in two parameters, `df_X`, and `s_y` and return the least squares regression model, $\\hat{\\beta}$ (using the notation from the ESLII book chapter 3 and HW3).  You can not use any libraries outside of pandas and numpy. Note that the length of beta_hat should be the number of columns in `df_X` + 1. \n",
        "\n",
        "The second function should take in two parameters, `beta_hat` - the model generated from the `get_linear_regression` function, and `df_X` - that has the attribute values at which we want to predict a continuous value.  We assume that the format and ordering of `df_X` used to create the model and `df_X` used to generate predictions are consistent. "
      ]
    },
    {
      "cell_type": "code",
      "metadata": {
        "id": "yf37fNLUVQNl"
      },
      "source": [
        "def get_linear_regression_model(df_X, s_y):\n",
        "    [beta_hat, residuals, rank, s] = np.linalg.lstsq(df_X, s_y, rcond=-1)\n",
        "    return beta_hat"
      ],
      "execution_count": 4,
      "outputs": []
    },
    {
      "cell_type": "code",
      "metadata": {
        "id": "VaM8sfLCVQNm",
        "colab": {
          "base_uri": "https://localhost:8080/"
        },
        "outputId": "87ea1c51-2eab-4a16-ccfd-c28605b05f38"
      },
      "source": [
        "# code to check beta_hat\n",
        "np.random.seed(23)\n",
        "test_X = pd.DataFrame(np.random.random((34, 4)))\n",
        "one_array = np.ones((len(test_X), 1))\n",
        "test_X = np.hstack((test_X, one_array))\n",
        "beta_hat = get_linear_regression_model(test_X, pd.Series(np.random.random(34) * 10.0))\n",
        "beta_hat"
      ],
      "execution_count": 5,
      "outputs": [
        {
          "output_type": "execute_result",
          "data": {
            "text/plain": [
              "array([ 1.77890808,  0.74032569, -1.3506416 ,  0.14535984,  4.18818425])"
            ]
          },
          "metadata": {},
          "execution_count": 5
        }
      ]
    },
    {
      "cell_type": "code",
      "metadata": {
        "id": "OyMGfxtxXNCM",
        "colab": {
          "base_uri": "https://localhost:8080/"
        },
        "outputId": "2366f2fa-36b8-4e18-bab0-5c48cc2e49e3"
      },
      "source": [
        "predicted_vals = predict_linear_regression_value( beta_hat, pd.DataFrame(np.random.random((3,4))))\n",
        "predicted_vals"
      ],
      "execution_count": null,
      "outputs": [
        {
          "output_type": "execute_result",
          "data": {
            "text/plain": [
              "0    4.036695\n",
              "1    4.395026\n",
              "2    3.908847\n",
              "dtype: float64"
            ]
          },
          "metadata": {},
          "execution_count": 7
        }
      ]
    },
    {
      "cell_type": "markdown",
      "metadata": {
        "id": "cRxs-OTiVQNn"
      },
      "source": [
        "## Q1.3 Define a function that partitions the dataframe and series data into dictionaries\n",
        "This function should take in three parameters, `df_X`, `s_y`, and `k`, and returns a tuple of two dictionaries.\n",
        "In both dictionaries the key is the `k` value (an integer from one to `k` inclusive).\n",
        "The first dictionary will have the dataframe of the training data that contains approximately $\\frac{1}{k}$ of the data (variation due to randomness is acceptable).\n",
        "The second dictionary will have the series of the target data that contains approximately $\\frac{1}{k}$ of the data (variation due to randomness is acceptable). Please note the targets _must match_ the same rows as the dataframe at this index, e.g, the length of the kth partition is the same for the dataframe and series.\n",
        "\n",
        "Call that function with $k=5$ and create the dictionaries `dict_k_df_X` and `dict_k_s_y`. Print out the number of rows in each fold.  Check that the number of data points in each partition totals the number of data points in the entire dataset. \n",
        "\n",
        "Here is some example output from checking the length of the folds:\n",
        "```\n",
        "Fold 1 length of dataframe is 88 and length of series is 88\n",
        "Fold 2 length of dataframe is 96 and length of series is 96\n",
        "Fold 3 length of dataframe is 88 and length of series is 88\n",
        "Fold 4 length of dataframe is 79 and length of series is 79\n",
        "Fold 5 length of dataframe is 91 and length of series is 91\n",
        "The sum of the number of elements in each fold is 442 and there are 442 rows in the original df\n",
        "```"
      ]
    },
    {
      "cell_type": "code",
      "metadata": {
        "id": "vKZFErNNVQNo"
      },
      "source": [
        "def partition_data(df_X, s_y, k):\n",
        "    dict_k_df_X = {}\n",
        "    dict_k_s_y = {}\n",
        "    cur_idx = 0\n",
        "    \n",
        "    for i in range(1, k):\n",
        "        partition_size = int(np.round(len(df_X) / k + (np.random.normal() * len(df_X) /(k * 20))))\n",
        "        dict_k_df_X[i] = df_X[cur_idx:cur_idx + partition_size]\n",
        "        dict_k_s_y[i] = s_y[cur_idx:cur_idx + partition_size]\n",
        "        cur_idx += partition_size\n",
        "        one_array = np.ones((len(dict_k_df_X[i]), 1))\n",
        "        dict_k_df_X[i] = np.hstack((dict_k_df_X[i], one_array))\n",
        "    \n",
        "    dict_k_df_X[k] = df_X[cur_idx:len(df_X)]\n",
        "    dict_k_s_y[k] = s_y[cur_idx:len(df_X)]\n",
        "    \n",
        "    one_array = np.ones((len(dict_k_df_X[k]), 1))\n",
        "    dict_k_df_X[k] = np.hstack((dict_k_df_X[k], one_array))\n",
        "    \n",
        "    return (dict_k_df_X, dict_k_s_y)"
      ],
      "execution_count": 6,
      "outputs": []
    },
    {
      "cell_type": "code",
      "metadata": {
        "id": "pefH5wfJVQNo"
      },
      "source": [
        "(dict_k_df_X, dict_k_s_y) = partition_data(df_X, s_y, 5)"
      ],
      "execution_count": 7,
      "outputs": []
    },
    {
      "cell_type": "code",
      "metadata": {
        "id": "TQ27tMRFVQNp",
        "colab": {
          "base_uri": "https://localhost:8080/"
        },
        "outputId": "089a980b-0f40-4ee8-94e3-92a50bb8636a"
      },
      "source": [
        "# Check fold sizes\n",
        "sum_folds = 0\n",
        "\n",
        "for key, values in dict_k_df_X.items():\n",
        "    sum_folds += len(values)\n",
        "    print(\"Fold \" + str(key) + \" length of dataframe is \" + str(len(values)) + \" and length of series is \" + str(len(dict_k_s_y[key])))\n",
        "    \n",
        "print(\"The sum of the number of elements in each fold is \" + str(sum_folds) + \" and there are \" + str(len(df_X)) + \" rows in the original df\")\n"
      ],
      "execution_count": 8,
      "outputs": [
        {
          "output_type": "stream",
          "name": "stdout",
          "text": [
            "Fold 1 length of dataframe is 91 and length of series is 91\n",
            "Fold 2 length of dataframe is 78 and length of series is 78\n",
            "Fold 3 length of dataframe is 91 and length of series is 91\n",
            "Fold 4 length of dataframe is 85 and length of series is 85\n",
            "Fold 5 length of dataframe is 97 and length of series is 97\n",
            "The sum of the number of elements in each fold is 442 and there are 442 rows in the original df\n"
          ]
        }
      ]
    },
    {
      "cell_type": "markdown",
      "metadata": {
        "id": "DtdijUdNVQNp"
      },
      "source": [
        "## Q1.4 Define a function that calculates a regression metric\n",
        "This function should accept two series of equal length $n$ numpy arrays, `s_y`, and `s_y_hat`. The metric it should calculate is the mean absolute error, $MAE = \\sum\\limits_{i=1}^n\\frac{|{s\\_y_i - {s\\_y\\_hat}_i}|}{n}$ \n",
        "\n",
        "Test your function by using the vectors:\n",
        "```\n",
        "x = np.array([1,2,3])\n",
        "y = np.array([2,2,3])\n",
        "```\n"
      ]
    },
    {
      "cell_type": "code",
      "metadata": {
        "id": "v40R9HM_VQNq"
      },
      "source": [
        "def get_mae(s_y, s_y_hat):\n",
        "    mae = 0 # mean absolute error\n",
        "    for i in range(len(s_y)):\n",
        "        mae += abs(s_y[i] - s_y_hat[i]) / len(s_y)\n",
        "    return mae"
      ],
      "execution_count": 9,
      "outputs": []
    },
    {
      "cell_type": "code",
      "metadata": {
        "id": "jJB-KKKvVQNq",
        "colab": {
          "base_uri": "https://localhost:8080/"
        },
        "outputId": "17324956-16ff-46e1-d29b-7c67091cb1e6"
      },
      "source": [
        "# Test it \n",
        "x = np.array([1,2,3])\n",
        "y = np.array([2,2,3])\n",
        "get_mae(x,y)"
      ],
      "execution_count": 10,
      "outputs": [
        {
          "output_type": "execute_result",
          "data": {
            "text/plain": [
              "0.3333333333333333"
            ]
          },
          "metadata": {},
          "execution_count": 10
        }
      ]
    },
    {
      "cell_type": "markdown",
      "metadata": {
        "id": "3pgVtzgWVQNq"
      },
      "source": [
        "## Q1.5 Calculate the $MAE$ for each fold\n",
        "For each fold in your dictionaries, calculate the $MAE$.  Use the partition number key as the test set, and all other partitions as the train set. \n",
        "\n",
        "Print the min, max, and mean $MAE$ of your 5 folds. \n",
        "\n",
        "You must use your helper functions that you wrote above, `get_linear_regression_model`, `predict_linear_regression_value` and `get_mae`. "
      ]
    },
    {
      "cell_type": "code",
      "metadata": {
        "id": "IuxFj8z5VQNr"
      },
      "source": [
        "mae = np.array([])\n",
        "for i in dict_k_df_X.keys():\n",
        "    first_found = False\n",
        "    # Build linear regression model from training set\n",
        "    # i is the testing set\n",
        "    \n",
        "    # for loop iterates to build the training set. \n",
        "    # if i = j, skips it because it's the testing set\n",
        "\n",
        "    for j in dict_k_df_X.keys():\n",
        "        if (i != j):\n",
        "            if (first_found == False):\n",
        "                training_df_X = dict_k_df_X[j]\n",
        "                training_s_y = dict_k_s_y[j]\n",
        "                first_found = True\n",
        "            else:\n",
        "                training_df_X = np.append(training_df_X, dict_k_df_X[j], axis=0)\n",
        "                training_s_y = np.append(training_s_y, dict_k_s_y[j], axis=0)\n",
        "            \n",
        "    beta_hat = np.reshape(get_linear_regression_model(training_df_X, training_s_y), (11, 1))\n",
        "    s_y_hat = np.matmul(dict_k_df_X[i], beta_hat)\n",
        "    \n",
        "    mae = np.append(mae, get_mae(dict_k_s_y[i], s_y_hat)) "
      ],
      "execution_count": 11,
      "outputs": []
    },
    {
      "cell_type": "code",
      "metadata": {
        "id": "7OxejniBVQNr",
        "colab": {
          "base_uri": "https://localhost:8080/"
        },
        "outputId": "d898a9c2-1b0d-406b-e4fd-c62c91de41bf"
      },
      "source": [
        "print(\"The min MAE is {:.2f}, the max MAE is {:.2f}, and the mean MAE is {:.2f}\".format(mae.min(),mae.max(),mae.mean()))"
      ],
      "execution_count": 12,
      "outputs": [
        {
          "output_type": "stream",
          "name": "stdout",
          "text": [
            "The min MAE is 40.49, the max MAE is 47.57, and the mean MAE is 44.62\n"
          ]
        }
      ]
    },
    {
      "cell_type": "markdown",
      "metadata": {
        "id": "bqOqK30FVQNr"
      },
      "source": [
        "# Part 2 - Find the best hyperparameter to use in a Decision Tree "
      ]
    },
    {
      "cell_type": "markdown",
      "metadata": {
        "id": "3xVkJfkdVQNr"
      },
      "source": [
        "## Q2.1 Load the iris data in as a pandas dataframe and a series\n",
        "Documentation on the data set is [here](https://scikit-learn.org/stable/modules/generated/sklearn.datasets.load_iris.html). Name your features dataframe (the independent variables) `df_X` and your class label (the dependent variable) series `s_y`"
      ]
    },
    {
      "cell_type": "code",
      "metadata": {
        "id": "5oBRRztuVQNr"
      },
      "source": [
        "df = load_iris()\n",
        "df\n",
        "df_X = df['data']\n",
        "s_y = df['target']\n",
        "\n",
        "# shuffle\n",
        "newOrder = np.arange(len(s_y))\n",
        "np.random.shuffle(newOrder)\n",
        "\n",
        "d = df_X.copy()\n",
        "s= s_y.copy()\n",
        "\n",
        "##################### create new array with newOrder \n",
        "\n",
        "for i in range(len(newOrder)):\n",
        "    df_X[i] = d[newOrder[i]]\n",
        "    s_y[i] = s[newOrder[i]]"
      ],
      "execution_count": 13,
      "outputs": []
    },
    {
      "cell_type": "markdown",
      "metadata": {
        "id": "O0OUEFGaVQNr"
      },
      "source": [
        "## Q2.2 Partition `df_X` and `s_y` into $5$ partitions of roughly equal size\n",
        "Make 2 dictionaries, with the key of each dictionary the fold number.  The value of the dictionary `dict_k_df_X` is the $k^{th}$ partition of the data, and the value of the dictionary `dict_k_s_y` is the corresponding $k^{th}$ target classification.  Print out the number of rows in each fold.  Check that the number of data points in each partition totals the number of data points in the entire dataset. \n",
        "\n",
        "Note, you can reuse the functions from Section 1. "
      ]
    },
    {
      "cell_type": "code",
      "metadata": {
        "id": "4FDi6t03VQNs"
      },
      "source": [
        "(dict_k_df_X, dict_k_s_y) = partition_data(df_X, s_y, 5)"
      ],
      "execution_count": 14,
      "outputs": []
    },
    {
      "cell_type": "markdown",
      "metadata": {
        "id": "D3QvbgqsVQNs"
      },
      "source": [
        "## Q2.3 Define a function that calculates accuracy\n",
        "The function should accept two series and compare each element for equality.  The accuracy is the number of equal elements divided by the total number of elements.\n",
        "\n",
        "Test your accuracy function by calling it with the `s_y` loaded from the iris data set and an array of the same length containing all $1$ values. "
      ]
    },
    {
      "cell_type": "code",
      "metadata": {
        "id": "hGEZaKCRVQNs"
      },
      "source": [
        "def get_acc( s_1, s_2 ):\n",
        "    if len(s_1) != len(s_2):\n",
        "        return \"Lengths do not equal each other\"\n",
        "    n = len(s_1)\n",
        "    c = 0.0;\n",
        "    for i in range(n):\n",
        "        if s_1[i] == s_2[i]:\n",
        "            c += 1\n",
        "    return c/n;"
      ],
      "execution_count": 18,
      "outputs": []
    },
    {
      "cell_type": "code",
      "metadata": {
        "id": "K8WcPX7IVQNs",
        "colab": {
          "base_uri": "https://localhost:8080/"
        },
        "outputId": "be96d187-61a2-460b-d8b3-25269b262d59"
      },
      "source": [
        "get_acc(s_y, np.ones(len(s_y)))"
      ],
      "execution_count": 19,
      "outputs": [
        {
          "output_type": "execute_result",
          "data": {
            "text/plain": [
              "0.3333333333333333"
            ]
          },
          "metadata": {},
          "execution_count": 19
        }
      ]
    },
    {
      "cell_type": "markdown",
      "metadata": {
        "id": "1szoVAVkVQNs"
      },
      "source": [
        "## Q2.4 Using Nested Cross validation, find the best hyperparameter\n",
        "Use the [Decision Tree Classifier](https://scikit-learn.org/stable/modules/tree.html#classification) class to build a decision tree inside of a 5-fold cross validation loop.  The partitions you already created in 2.2 will be the outer loop.  In the inside loop you should use 4-fold cross validation (so you don't have to partition _again_) to find the best value for `min_impurity_decrease`.  Use the Gini Index as your impurity measure. \n",
        "    Calculate the mean accuracy across the 4 folds of your inner loop for all the candidate `min_impurity_decrease` values, and print the value.  Use the array `np.array([0.1,0.25,0.3,0.4])` as the candidates for the best hyperparameter. If there is a tie (two `min_impurity_decrease` values give the same highest accuracy), choose the lowest `min_impurity_decrease` value. \n",
        "\n",
        "For each inner loop, select the best `min_impurity_decrease` and train the outer fold training data on using that value. \n",
        "\n",
        "For each of the 5 executions of the inner loop, your output should look something like this:\n",
        "```\n",
        "Testing 0.10 min impurity decrease\n",
        "\tAverage accuracy over 4 folds is 0.95\n",
        "Testing 0.25 min impurity decrease\n",
        "\tAverage accuracy over 4 folds is 0.86\n",
        "Testing 0.30 min impurity decrease\n",
        "\tAverage accuracy over 4 folds is 0.63\n",
        "Testing 0.40 min impurity decrease\n",
        "\tAverage accuracy over 4 folds is 0.27\n",
        "\n",
        "Best min impurity decrease is 0.1\n",
        "\n",
        "```"
      ]
    },
    {
      "cell_type": "code",
      "metadata": {
        "id": "8a7spNAnVQNs",
        "colab": {
          "base_uri": "https://localhost:8080/"
        },
        "outputId": "e8130297-7587-4fed-83f4-39156b7f3f42"
      },
      "source": [
        "from sklearn.tree import DecisionTreeClassifier\n",
        "possible_min_impurity_decrease = np.array([0.1, 0.25, 0.3, 0.4])\n",
        "\n",
        "# Outer loop\n",
        "outer_acc = np.array([])\n",
        "for k in dict_k_df_X.keys():\n",
        "    print(\"Execution #\" + str(k))\n",
        "    test_df_X = dict_k_df_X[k]\n",
        "    test_s_y = dict_k_s_y[k]\n",
        "    first_found = False\n",
        "\n",
        "    for j in dict_k_df_X.keys():\n",
        "        if (k != j):\n",
        "            if (first_found == False):\n",
        "                outerFold_df_X = dict_k_df_X[j]\n",
        "                outerFold_s_y = dict_k_s_y[j]\n",
        "                first_found = True\n",
        "            else:\n",
        "                outerFold_df_X = np.append(outerFold_df_X, dict_k_df_X[j], axis=0)\n",
        "                outerFold_s_y = np.append(outerFold_s_y, dict_k_s_y[j], axis=0)\n",
        "    \n",
        "    (dict_Inner_df_X, dict_Inner_s_y) = partition_data(outerFold_df_X, outerFold_s_y, 4)\n",
        "    this_acc = np.array([])\n",
        "    for pos_min_impurity in possible_min_impurity_decrease:\n",
        "        inner_acc = np.array([]);\n",
        "        for m in dict_Inner_df_X.keys():\n",
        "            inner_test_df_X = dict_Inner_df_X[m]\n",
        "            inner_test_s_y = dict_Inner_s_y[m]\n",
        "            first_found = False\n",
        "            for n in dict_Inner_df_X.keys():\n",
        "                if (m!=n):\n",
        "                    if (first_found== False):\n",
        "                        innerFold_df_X = dict_Inner_df_X[n]\n",
        "                        innerFold_s_y = dict_Inner_s_y[n]\n",
        "                    else:\n",
        "                        innerFold_df_X = np.append(innerFold_df_X, dict_Inner_df_X[n], axis=0)\n",
        "                        innerFold_s_y = np.append(innerFold_s_y, dict_Inner_s_y[n], axis=0)\n",
        "            \n",
        "            clf = tree.DecisionTreeClassifier(min_impurity_decrease=pos_min_impurity, criterion=\"gini\")\n",
        "            clf = clf.fit(innerFold_df_X, innerFold_s_y)\n",
        "            innerPrediction = clf.predict(inner_test_df_X)\n",
        "            inner_acc = np.append(inner_acc, get_acc(innerPrediction, inner_test_s_y))\n",
        "            #print(tree.export_text(clf))\n",
        "        print(\"Testing \" + str(pos_min_impurity) + \" min impurity decrease\")\n",
        "        print(\"\\tAverage accuracy over 4 folds is \" + str(np.round(inner_acc.mean(), 2)))\n",
        "        this_acc = np.append(this_acc, inner_acc.mean())\n",
        "        \n",
        "            \n",
        "    # Inner loop cross validation code here (use 4 folds, where the fold does not include k)\n",
        "    print(\"Best min impurity \" + str(possible_min_impurity_decrease[np.argmax(this_acc)]))\n",
        "    print(\"\")  \n",
        "    # Use best min impurity decrease to train model\n",
        "    clf = tree.DecisionTreeClassifier(min_impurity_decrease=possible_min_impurity_decrease[np.argmax(this_acc)], criterion=\"gini\")\n",
        "    clf = clf.fit(outerFold_df_X, outerFold_s_y)\n",
        "    outerPrediction = clf.predict(test_df_X)\n",
        "    \n",
        "    acc = get_acc(outerPrediction,test_s_y)\n",
        "    \n",
        "    # outer accuracy calculation \n",
        "    outer_acc = np.append(outer_acc, acc) # make sure and calculate this_acc in your loop\n",
        "    print(\"Outer accuracy \" + str(np.round(acc * 100, 2)) + \" %\\n\")"
      ],
      "execution_count": 20,
      "outputs": [
        {
          "output_type": "stream",
          "name": "stdout",
          "text": [
            "Execution #1\n",
            "Testing 0.1 min impurity decrease\n",
            "\tAverage accuracy over 4 folds is 0.94\n",
            "Testing 0.25 min impurity decrease\n",
            "\tAverage accuracy over 4 folds is 0.69\n",
            "Testing 0.3 min impurity decrease\n",
            "\tAverage accuracy over 4 folds is 0.6\n",
            "Testing 0.4 min impurity decrease\n",
            "\tAverage accuracy over 4 folds is 0.31\n",
            "Best min impurity 0.1\n",
            "\n",
            "Outer accuracy 96.88 %\n",
            "\n",
            "Execution #2\n",
            "Testing 0.1 min impurity decrease\n",
            "\tAverage accuracy over 4 folds is 0.91\n",
            "Testing 0.25 min impurity decrease\n",
            "\tAverage accuracy over 4 folds is 0.69\n",
            "Testing 0.3 min impurity decrease\n",
            "\tAverage accuracy over 4 folds is 0.67\n",
            "Testing 0.4 min impurity decrease\n",
            "\tAverage accuracy over 4 folds is 0.25\n",
            "Best min impurity 0.1\n",
            "\n",
            "Outer accuracy 90.32 %\n",
            "\n",
            "Execution #3\n",
            "Testing 0.1 min impurity decrease\n",
            "\tAverage accuracy over 4 folds is 0.95\n",
            "Testing 0.25 min impurity decrease\n",
            "\tAverage accuracy over 4 folds is 0.68\n",
            "Testing 0.3 min impurity decrease\n",
            "\tAverage accuracy over 4 folds is 0.71\n",
            "Testing 0.4 min impurity decrease\n",
            "\tAverage accuracy over 4 folds is 0.29\n",
            "Best min impurity 0.1\n",
            "\n",
            "Outer accuracy 100.0 %\n",
            "\n",
            "Execution #4\n",
            "Testing 0.1 min impurity decrease\n",
            "\tAverage accuracy over 4 folds is 0.96\n",
            "Testing 0.25 min impurity decrease\n",
            "\tAverage accuracy over 4 folds is 0.72\n",
            "Testing 0.3 min impurity decrease\n",
            "\tAverage accuracy over 4 folds is 0.64\n",
            "Testing 0.4 min impurity decrease\n",
            "\tAverage accuracy over 4 folds is 0.3\n",
            "Best min impurity 0.1\n",
            "\n",
            "Outer accuracy 96.88 %\n",
            "\n",
            "Execution #5\n",
            "Testing 0.1 min impurity decrease\n",
            "\tAverage accuracy over 4 folds is 0.96\n",
            "Testing 0.25 min impurity decrease\n",
            "\tAverage accuracy over 4 folds is 0.88\n",
            "Testing 0.3 min impurity decrease\n",
            "\tAverage accuracy over 4 folds is 0.6\n",
            "Testing 0.4 min impurity decrease\n",
            "\tAverage accuracy over 4 folds is 0.3\n",
            "Best min impurity 0.1\n",
            "\n",
            "Outer accuracy 88.46 %\n",
            "\n"
          ]
        }
      ]
    },
    {
      "cell_type": "markdown",
      "metadata": {
        "id": "L6-dgURkVQNt"
      },
      "source": [
        "## Q2.5 Show the generalized performance of the classifier \n",
        "Show the generalized performance of the classifier by printing the min, max, and mean accuracy of the outer fold test sets."
      ]
    },
    {
      "cell_type": "code",
      "metadata": {
        "id": "3wed-YLSVQNt",
        "colab": {
          "base_uri": "https://localhost:8080/"
        },
        "outputId": "94325dc9-8b8d-4b94-a310-acbc4fb035ef"
      },
      "source": [
        "print(\"The min accuracy is {:.2f}, the max accuracy is {:.2f}, and the mean accuracy is {:.2f}\".format(outer_acc.min(),outer_acc.max(),outer_acc.mean()))\n"
      ],
      "execution_count": 21,
      "outputs": [
        {
          "output_type": "stream",
          "name": "stdout",
          "text": [
            "The min accuracy is 0.88, the max accuracy is 1.00, and the mean accuracy is 0.95\n"
          ]
        }
      ]
    }
  ]
}