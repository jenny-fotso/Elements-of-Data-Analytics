{
  "nbformat": 4,
  "nbformat_minor": 0,
  "metadata": {
    "colab": {
      "name": "329e_HW1.ipynb",
      "provenance": [],
      "collapsed_sections": []
    },
    "kernelspec": {
      "display_name": "Python 3",
      "language": "python",
      "name": "python3"
    },
    "language_info": {
      "codemirror_mode": {
        "name": "ipython",
        "version": 3
      },
      "file_extension": ".py",
      "mimetype": "text/x-python",
      "name": "python",
      "nbconvert_exporter": "python",
      "pygments_lexer": "ipython3",
      "version": "3.8.8"
    }
  },
  "cells": [
    {
      "cell_type": "markdown",
      "metadata": {
        "id": "BoxpSMDOX1_y"
      },
      "source": [
        "# Homework 1\n",
        "\n",
        "## Pair Programming Group Number: 12\n",
        "## Members of Team: Jenny Fotso & Medhavie Agnihotri\n",
        "\n",
        "\n",
        "### Data maniupuation and Visualization!\n",
        "\n",
        "In our first assignment you will practice manipuating and visualizing data from a real wold data set, Melbourne Australia home sales records. \n",
        "\n",
        "### The Data\n",
        "\n",
        "Was taken from a Kaggle competition, and came with the following descriptions:\n",
        "Content & Acknowledgements\n",
        "\n",
        "```\n",
        "This data was scraped from publicly available results posted every week from Domain.com.au, I've cleaned it as best I can, now it's up to you to make data analysis magic. The dataset includes Address, Type of Real estate, Suburb, Method of Selling, Rooms, Price, Real Estate Agent, Date of Sale and distance from C.B.D.\n",
        "\n",
        "….Now with extra data including including property size, land size and council area, you may need to change your code!\n",
        "\n",
        "Some Key Details\n",
        "Suburb: Suburb\n",
        "\n",
        "Address: Address\n",
        "\n",
        "Rooms: Number of rooms\n",
        "\n",
        "Price: Price in Australian dollars\n",
        "\n",
        "Method:\n",
        "S - property sold;\n",
        "SP - property sold prior;\n",
        "PI - property passed in;\n",
        "PN - sold prior not disclosed;\n",
        "SN - sold not disclosed;\n",
        "NB - no bid;\n",
        "VB - vendor bid;\n",
        "W - withdrawn prior to auction;\n",
        "SA - sold after auction;\n",
        "SS - sold after auction price not disclosed.\n",
        "N/A - price or highest bid not available.\n",
        "\n",
        "Type:\n",
        "br - bedroom(s);\n",
        "h - house,cottage,villa, semi,terrace;\n",
        "u - unit, duplex;\n",
        "t - townhouse;\n",
        "dev site - development site;\n",
        "o res - other residential.\n",
        "\n",
        "SellerG: Real Estate Agent\n",
        "\n",
        "Date: Date sold\n",
        "\n",
        "Distance: Distance from CBD in Kilometres\n",
        "\n",
        "Regionname: General Region (West, North West, North, North east …etc)\n",
        "\n",
        "Propertycount: Number of properties that exist in the suburb.\n",
        "\n",
        "Bedroom2 : Scraped # of Bedrooms (from different source)\n",
        "\n",
        "Bathroom: Number of Bathrooms\n",
        "\n",
        "Car: Number of carspots\n",
        "\n",
        "Landsize: Land Size in Metres\n",
        "\n",
        "BuildingArea: Building Size in Metres\n",
        "\n",
        "YearBuilt: Year the house was built\n",
        "\n",
        "CouncilArea: Governing council for the area\n",
        "\n",
        "Lattitude: Self explanitory\n",
        "\n",
        "Longtitude: Self explanitory\n",
        "```\n"
      ]
    },
    {
      "cell_type": "markdown",
      "metadata": {
        "id": "Xc3WoTIgX1_z"
      },
      "source": [
        "## Q1 - Loading Data\n",
        "Run the following code section to load dataset into a pandas DataFrame named `df`. If you need to look up other\n",
        "syntax on how to read csv files you can find it [here](https://pandas.pydata.org/docs/reference/api/pandas.read_csv.html)."
      ]
    },
    {
      "cell_type": "code",
      "metadata": {
        "id": "meTTfqQNX1_0"
      },
      "source": [
        "# remember to type in your standard library import for pandas first\n",
        "import pandas as pd\n",
        "import numpy as np\n",
        "import matplotlib.pyplot as plt\n",
        "\n",
        "url = 'https://gist.githubusercontent.com/TieJean/ba718aac753c2f90e3d4e040d8f7d982/raw/2aca4164b087fa86721e877b4f1a6bd46d687035/melb_data.csv'\n",
        "\n",
        "df = pd.read_csv(url)"
      ],
      "execution_count": 9,
      "outputs": []
    },
    {
      "cell_type": "markdown",
      "metadata": {
        "id": "w8oF--FrX1_0"
      },
      "source": [
        "## Q2 - How many unique suburbs are there?\n",
        "\n",
        "Are there any pandas DataFrame operations that can do this for you?\n",
        "\n",
        "[This](https://pandas.pydata.org/pandas-docs/stable/reference/api/pandas.Series.nunique.html) function might help. "
      ]
    },
    {
      "cell_type": "code",
      "metadata": {
        "id": "hLKvAS0YX1_1",
        "colab": {
          "base_uri": "https://localhost:8080/"
        },
        "outputId": "57432c27-9958-41dc-9679-df1ac027ddb5"
      },
      "source": [
        "df['Suburb'].nunique()"
      ],
      "execution_count": 10,
      "outputs": [
        {
          "output_type": "execute_result",
          "data": {
            "text/plain": [
              "314"
            ]
          },
          "metadata": {},
          "execution_count": 10
        }
      ]
    },
    {
      "cell_type": "code",
      "metadata": {
        "id": "jOIRYqBZaejP"
      },
      "source": [
        "#len(df['Suburb'].drop_duplicates())"
      ],
      "execution_count": 11,
      "outputs": []
    },
    {
      "cell_type": "markdown",
      "metadata": {
        "id": "e6X1RCrUX1_1"
      },
      "source": [
        "## Q3 - How many unique properties are there?\n",
        "\n",
        "If you forget the names of the columns you can always type:\n",
        "\n",
        "`df.columns` \n",
        "\n",
        "in a cell by itself to see this list of column names."
      ]
    },
    {
      "cell_type": "code",
      "metadata": {
        "id": "ER7hBbf9X1_2",
        "colab": {
          "base_uri": "https://localhost:8080/"
        },
        "outputId": "1575c1bb-695e-4172-ee26-018655ad72d6"
      },
      "source": [
        "df.columns"
      ],
      "execution_count": 12,
      "outputs": [
        {
          "output_type": "execute_result",
          "data": {
            "text/plain": [
              "Index(['Suburb', 'Address', 'Rooms', 'Type', 'Price', 'Method', 'SellerG',\n",
              "       'Date', 'Distance', 'Postcode', 'Bedroom2', 'Bathroom', 'Car',\n",
              "       'Landsize', 'BuildingArea', 'YearBuilt', 'CouncilArea', 'Lattitude',\n",
              "       'Longtitude', 'Regionname', 'Propertycount'],\n",
              "      dtype='object')"
            ]
          },
          "metadata": {},
          "execution_count": 12
        }
      ]
    },
    {
      "cell_type": "code",
      "metadata": {
        "colab": {
          "base_uri": "https://localhost:8080/"
        },
        "id": "YL0rnk3v36LQ",
        "outputId": "52522a72-4c10-4ec0-a993-1a85bf82e897"
      },
      "source": [
        "df['Type'].nunique()"
      ],
      "execution_count": 13,
      "outputs": [
        {
          "output_type": "execute_result",
          "data": {
            "text/plain": [
              "3"
            ]
          },
          "metadata": {},
          "execution_count": 13
        }
      ]
    },
    {
      "cell_type": "code",
      "metadata": {
        "id": "PB-6vB9zEVBk",
        "colab": {
          "base_uri": "https://localhost:8080/"
        },
        "outputId": "37927db0-70b2-499c-e7ac-e03dc90b96f2"
      },
      "source": [
        "group = df.groupby([\"Address\",\"Suburb\",\"Postcode\"])\n",
        "\n",
        "print(\"There are \" + str(len(group)) + \" unique properties.\")"
      ],
      "execution_count": 14,
      "outputs": [
        {
          "output_type": "stream",
          "name": "stdout",
          "text": [
            "There are 13466 unique properties.\n"
          ]
        }
      ]
    },
    {
      "cell_type": "markdown",
      "metadata": {
        "id": "BtVI3MNMX1_2"
      },
      "source": [
        "## Q4 - What is the mean price of a property in the Kensington suburb?\n",
        "\n",
        "You are getting the hang of reading the documentation!  Try finding the function\n",
        "for mean yourself at the [root page](https://pandas.pydata.org/pandas-docs/stable/index.html) of the documentation."
      ]
    },
    {
      "cell_type": "code",
      "metadata": {
        "id": "Z9l57TjwX1_3",
        "colab": {
          "base_uri": "https://localhost:8080/"
        },
        "outputId": "97dad470-705e-468d-f2d4-d08a05ce0b32"
      },
      "source": [
        "# select only the Kensington neighborhood to work with\n",
        "df_ken = df[ df['Suburb'] == 'Kensington' ]\n",
        "\n",
        "# find the mean of the price column in the selected neighborhood\n",
        "df_ken['Price'].mean()"
      ],
      "execution_count": 15,
      "outputs": [
        {
          "output_type": "execute_result",
          "data": {
            "text/plain": [
              "831667.4358974359"
            ]
          },
          "metadata": {},
          "execution_count": 15
        }
      ]
    },
    {
      "cell_type": "markdown",
      "metadata": {
        "id": "-8ZCoblfX1_4"
      },
      "source": [
        "## Q5 - What percentage of properties contain a YearBuilt value?"
      ]
    },
    {
      "cell_type": "code",
      "metadata": {
        "id": "mRRvcWjQX1_4",
        "colab": {
          "base_uri": "https://localhost:8080/"
        },
        "outputId": "36dd0e83-102b-4296-db12-e6d7add77e1a"
      },
      "source": [
        "# get the total amount of properties\n",
        "total = len(df)\n",
        "\n",
        "# get the amount of properties where value is nan\n",
        "nan = len(df[df['YearBuilt'].isnull()])\n",
        "\n",
        "# then do the math\n",
        "n = 100 - (nan*100)/total\n",
        "print(n)\n"
      ],
      "execution_count": 16,
      "outputs": [
        {
          "output_type": "stream",
          "name": "stdout",
          "text": [
            "60.41973490427099\n"
          ]
        }
      ]
    },
    {
      "cell_type": "markdown",
      "metadata": {
        "id": "aiQCYn_IX1_4"
      },
      "source": [
        "## Q6 - Plot the Landsize as a histogram using 20 bins. Say something interesting about the graph.\n",
        "\n",
        "Matplotlib is [here](https://matplotlib.org/3.3.3/api/_as_gen/matplotlib.pyplot.hist.html) to help. \n",
        "\n",
        "In data visualization we discuss the \"Ink Ratio\" of creating graphics.  If you use the definalt bin sizes of the matplotlib histogram function, you will find that the histogram is not very informative.  Use the documentation to guide you to adjust the width of the bins in the histogram to make one _really_ wide bin on the right, and the rest of the bins equally distributed where most of the data resides. "
      ]
    },
    {
      "cell_type": "code",
      "metadata": {
        "colab": {
          "base_uri": "https://localhost:8080/",
          "height": 294
        },
        "id": "Vqu-CFPzc3e3",
        "outputId": "3fd026b6-c237-4b49-f97e-7fbb4680343c"
      },
      "source": [
        "scale = [0, 100, 200, 300, 400, 500, 600, 700, 800, 900, 1000, 1100, 1200, 1300, 1400, 1500, 1600, 1700, 1800, 1900, df['Landsize'].max()]\n",
        "plt.hist(df['Landsize'], bins=scale)\n",
        "plt.xlabel('Landsize')\n",
        "plt.ylabel('Number of houses')\n",
        "plt.xlim([0, 3000])\n",
        "plt.text(1500, 500, 'Last bin is properties > 1900')"
      ],
      "execution_count": 17,
      "outputs": [
        {
          "output_type": "execute_result",
          "data": {
            "text/plain": [
              "Text(1500, 500, 'Last bin is properties > 1900')"
            ]
          },
          "metadata": {},
          "execution_count": 17
        },
        {
          "output_type": "display_data",
          "data": {
            "image/png": "[encoded data removed]",
            "text/plain": [
              "<Figure size 432x288 with 1 Axes>"
            ]
          },
          "metadata": {
            "needs_background": "light"
          }
        }
      ]
    },
    {
      "cell_type": "markdown",
      "metadata": {
        "id": "yd42RX90X1_5"
      },
      "source": [
        "## Q7 - Plot a scatter plot of price as a function of BuildingArea using only rows that have a valid BuildingArea value\n",
        "\n",
        "Break this down into slicing the DataFrame first, then creating the visualization.  There are both `plot` and `scatter` functions in the matplotlib library that can help here.  You'll notice there is more than one way to do a thing so much in computer science 😄\n",
        "\n",
        "If you have to change your axes and end up excluding some points to make the data more visible, then annotate the number of points excluded in the graph. "
      ]
    },
    {
      "cell_type": "code",
      "metadata": {
        "id": "8rCVjyRkX1_5",
        "colab": {
          "base_uri": "https://localhost:8080/",
          "height": 325
        },
        "outputId": "cf389d8a-fe98-427e-ef2e-03a3f29d1cbd"
      },
      "source": [
        "slice = df[['BuildingArea', 'Price']].dropna()\n",
        "plt.scatter(slice[['BuildingArea']], slice[['Price']])\n",
        "plt.xlim(0,2000)\n",
        "plt.xlabel('BuildingArea')\n",
        "plt.ylabel('Price')\n",
        "plt.annotate('Four extreme points were excluded from the graph, find them in the next code box', (1750.0, 8.0)) "
      ],
      "execution_count": 18,
      "outputs": [
        {
          "output_type": "execute_result",
          "data": {
            "text/plain": [
              "Text(1750.0, 8.0, 'Four extreme points were excluded from the graph, find them in the next code box')"
            ]
          },
          "metadata": {},
          "execution_count": 18
        },
        {
          "output_type": "display_data",
          "data": {
            "image/png": "[encoded data removed]",
            "text/plain": [
              "<Figure size 432x288 with 1 Axes>"
            ]
          },
          "metadata": {
            "needs_background": "light"
          }
        }
      ]
    },
    {
      "cell_type": "code",
      "metadata": {
        "colab": {
          "base_uri": "https://localhost:8080/",
          "height": 170
        },
        "id": "RTo1zeznKhFA",
        "outputId": "30afd986-2f0a-499a-8715-c306101ca5c0"
      },
      "source": [
        "#these four points were excluded so we could zoom in and extract more Information from the graph\n",
        "slice[slice['BuildingArea'] > 2000]"
      ],
      "execution_count": 19,
      "outputs": [
        {
          "output_type": "execute_result",
          "data": {
            "text/html": [
              "\n",
              "  <div id=\"df-fb619124-aaad-41c2-b00b-aa8b3978c6ff\">\n",
              "    <div class=\"colab-df-container\">\n",
              "      <div>\n",
              "<style scoped>\n",
              "    .dataframe tbody tr th:only-of-type {\n",
              "        vertical-align: middle;\n",
              "    }\n",
              "\n",
              "    .dataframe tbody tr th {\n",
              "        vertical-align: top;\n",
              "    }\n",
              "\n",
              "    .dataframe thead th {\n",
              "        text-align: right;\n",
              "    }\n",
              "</style>\n",
              "<table border=\"1\" class=\"dataframe\">\n",
              "  <thead>\n",
              "    <tr style=\"text-align: right;\">\n",
              "      <th></th>\n",
              "      <th>BuildingArea</th>\n",
              "      <th>Price</th>\n",
              "    </tr>\n",
              "  </thead>\n",
              "  <tbody>\n",
              "    <tr>\n",
              "      <th>1484</th>\n",
              "      <td>6791.0</td>\n",
              "      <td>1280000.0</td>\n",
              "    </tr>\n",
              "    <tr>\n",
              "      <th>1588</th>\n",
              "      <td>3112.0</td>\n",
              "      <td>2608000.0</td>\n",
              "    </tr>\n",
              "    <tr>\n",
              "      <th>2560</th>\n",
              "      <td>3558.0</td>\n",
              "      <td>930000.0</td>\n",
              "    </tr>\n",
              "    <tr>\n",
              "      <th>13245</th>\n",
              "      <td>44515.0</td>\n",
              "      <td>1355000.0</td>\n",
              "    </tr>\n",
              "  </tbody>\n",
              "</table>\n",
              "</div>\n",
              "      <button class=\"colab-df-convert\" onclick=\"convertToInteractive('df-fb619124-aaad-41c2-b00b-aa8b3978c6ff')\"\n",
              "              title=\"Convert this dataframe to an interactive table.\"\n",
              "              style=\"display:none;\">\n",
              "        \n",
              "  <svg xmlns=\"http://www.w3.org/2000/svg\" height=\"24px\"viewBox=\"0 0 24 24\"\n",
              "       width=\"24px\">\n",
              "    <path d=\"M0 0h24v24H0V0z\" fill=\"none\"/>\n",
              "    <path d=\"M18.56 5.44l.94 2.06.94-2.06 2.06-.94-2.06-.94-.94-2.06-.94 2.06-2.06.94zm-11 1L8.5 8.5l.94-2.06 2.06-.94-2.06-.94L8.5 2.5l-.94 2.06-2.06.94zm10 10l.94 2.06.94-2.06 2.06-.94-2.06-.94-.94-2.06-.94 2.06-2.06.94z\"/><path d=\"M17.41 7.96l-1.37-1.37c-.4-.4-.92-.59-1.43-.59-.52 0-1.04.2-1.43.59L10.3 9.45l-7.72 7.72c-.78.78-.78 2.05 0 2.83L4 21.41c.39.39.9.59 1.41.59.51 0 1.02-.2 1.41-.59l7.78-7.78 2.81-2.81c.8-.78.8-2.07 0-2.86zM5.41 20L4 18.59l7.72-7.72 1.47 1.35L5.41 20z\"/>\n",
              "  </svg>\n",
              "      </button>\n",
              "      \n",
              "  <style>\n",
              "    .colab-df-container {\n",
              "      display:flex;\n",
              "      flex-wrap:wrap;\n",
              "      gap: 12px;\n",
              "    }\n",
              "\n",
              "    .colab-df-convert {\n",
              "      background-color: #E8F0FE;\n",
              "      border: none;\n",
              "      border-radius: 50%;\n",
              "      cursor: pointer;\n",
              "      display: none;\n",
              "      fill: #1967D2;\n",
              "      height: 32px;\n",
              "      padding: 0 0 0 0;\n",
              "      width: 32px;\n",
              "    }\n",
              "\n",
              "    .colab-df-convert:hover {\n",
              "      background-color: #E2EBFA;\n",
              "      box-shadow: 0px 1px 2px rgba(60, 64, 67, 0.3), 0px 1px 3px 1px rgba(60, 64, 67, 0.15);\n",
              "      fill: #174EA6;\n",
              "    }\n",
              "\n",
              "    [theme=dark] .colab-df-convert {\n",
              "      background-color: #3B4455;\n",
              "      fill: #D2E3FC;\n",
              "    }\n",
              "\n",
              "    [theme=dark] .colab-df-convert:hover {\n",
              "      background-color: #434B5C;\n",
              "      box-shadow: 0px 1px 3px 1px rgba(0, 0, 0, 0.15);\n",
              "      filter: drop-shadow(0px 1px 2px rgba(0, 0, 0, 0.3));\n",
              "      fill: #FFFFFF;\n",
              "    }\n",
              "  </style>\n",
              "\n",
              "      <script>\n",
              "        const buttonEl =\n",
              "          document.querySelector('#df-fb619124-aaad-41c2-b00b-aa8b3978c6ff button.colab-df-convert');\n",
              "        buttonEl.style.display =\n",
              "          google.colab.kernel.accessAllowed ? 'block' : 'none';\n",
              "\n",
              "        async function convertToInteractive(key) {\n",
              "          const element = document.querySelector('#df-fb619124-aaad-41c2-b00b-aa8b3978c6ff');\n",
              "          const dataTable =\n",
              "            await google.colab.kernel.invokeFunction('convertToInteractive',\n",
              "                                                     [key], {});\n",
              "          if (!dataTable) return;\n",
              "\n",
              "          const docLinkHtml = 'Like what you see? Visit the ' +\n",
              "            '<a target=\"_blank\" href=https://colab.research.google.com/notebooks/data_table.ipynb>data table notebook</a>'\n",
              "            + ' to learn more about interactive tables.';\n",
              "          element.innerHTML = '';\n",
              "          dataTable['output_type'] = 'display_data';\n",
              "          await google.colab.output.renderOutput(dataTable, element);\n",
              "          const docLink = document.createElement('div');\n",
              "          docLink.innerHTML = docLinkHtml;\n",
              "          element.appendChild(docLink);\n",
              "        }\n",
              "      </script>\n",
              "    </div>\n",
              "  </div>\n",
              "  "
            ],
            "text/plain": [
              "       BuildingArea      Price\n",
              "1484         6791.0  1280000.0\n",
              "1588         3112.0  2608000.0\n",
              "2560         3558.0   930000.0\n",
              "13245       44515.0  1355000.0"
            ]
          },
          "metadata": {},
          "execution_count": 19
        }
      ]
    },
    {
      "cell_type": "markdown",
      "metadata": {
        "id": "JBJ-e7kXX1_6"
      },
      "source": [
        "## Q8 - List the top 10 SellerG, and what percentage of properties they have listed \n",
        "\n",
        "I'm going to assume that the SellerG column is the name of the seller group, so \"realtor\" in US parlance.  So, that column is interpreted as the seller that listed the property.\n",
        "\n",
        "Check out the function `value_counts` in pandas documentation. "
      ]
    },
    {
      "cell_type": "code",
      "metadata": {
        "id": "UgG7EEkMX1_6",
        "colab": {
          "base_uri": "https://localhost:8080/"
        },
        "outputId": "c01383f8-f5c9-490d-ab13-77282bd056ba"
      },
      "source": [
        "df['SellerG'].value_counts().nlargest(10)"
      ],
      "execution_count": 20,
      "outputs": [
        {
          "output_type": "execute_result",
          "data": {
            "text/plain": [
              "Nelson           1565\n",
              "Jellis           1316\n",
              "hockingstuart    1167\n",
              "Barry            1011\n",
              "Ray               701\n",
              "Marshall          659\n",
              "Buxton            632\n",
              "Biggin            393\n",
              "Brad              342\n",
              "Fletchers         301\n",
              "Name: SellerG, dtype: int64"
            ]
          },
          "metadata": {},
          "execution_count": 20
        }
      ]
    },
    {
      "cell_type": "code",
      "metadata": {
        "colab": {
          "base_uri": "https://localhost:8080/"
        },
        "id": "p3NpHgQN4sRx",
        "outputId": "5fe7f4eb-ec7b-4338-f3af-adc18d46dab5"
      },
      "source": [
        "top_ten = df['SellerG'].value_counts().nlargest(10)\n",
        "top_ten/13580"
      ],
      "execution_count": 21,
      "outputs": [
        {
          "output_type": "execute_result",
          "data": {
            "text/plain": [
              "Nelson           0.115243\n",
              "Jellis           0.096907\n",
              "hockingstuart    0.085935\n",
              "Barry            0.074448\n",
              "Ray              0.051620\n",
              "Marshall         0.048527\n",
              "Buxton           0.046539\n",
              "Biggin           0.028940\n",
              "Brad             0.025184\n",
              "Fletchers        0.022165\n",
              "Name: SellerG, dtype: float64"
            ]
          },
          "metadata": {},
          "execution_count": 21
        }
      ]
    },
    {
      "cell_type": "code",
      "metadata": {
        "id": "VEKkzDwP491M",
        "colab": {
          "base_uri": "https://localhost:8080/",
          "height": 100
        },
        "outputId": "04831332-815b-4d30-c5c9-3c83b0bbf7f0"
      },
      "source": [
        "'''\n",
        "Nelson  listed 11.5243% of properties\n",
        "Jellis listed 9.6907% of properties\n",
        "Hockingstuart listed 8.5935% of properties\n",
        "Barry listed 7.4448% of properties\n",
        "Ray listed 5.1620% of properties\n",
        "Marshall listed 4.8527% of properties\n",
        "Bruxton listed 4.6539% of properties\n",
        "Biggin listed 2.8940% of properties\n",
        "Brad listed 2.5184% of properties\n",
        "Fletchers listed 2.2165% of properties\n",
        "'''"
      ],
      "execution_count": 22,
      "outputs": [
        {
          "output_type": "execute_result",
          "data": {
            "application/vnd.google.colaboratory.intrinsic+json": {
              "type": "string"
            },
            "text/plain": [
              "'\\nNelson  listed 11.5243% of properties\\nJellis listed 9.6907% of properties\\nHockingstuart listed 8.5935% of properties\\nBarry listed 7.4448% of properties\\nRay listed 5.1620% of properties\\nMarshall listed 4.8527% of properties\\nBruxton listed 4.6539% of properties\\nBiggin listed 2.8940% of properties\\nBrad listed 2.5184% of properties\\nFletchers listed 2.2165% of properties\\n'"
            ]
          },
          "metadata": {},
          "execution_count": 22
        }
      ]
    },
    {
      "cell_type": "markdown",
      "metadata": {
        "id": "5MBx3GOSX1_6"
      },
      "source": [
        "## Q9 - Fix a problem\n",
        "Your boss has told you that the number of rooms was calculated incorrectly systematically across the entire data set.  Add one room to the Rooms column using two methods:\n",
        "\n",
        " - a for loop, and\n",
        " - using a single statement\n",
        " \n",
        "Save those DataFrames into the variables `df1` and `df2`.  (We don't use these again, for the next questions just continue using `df`)\n",
        "\n",
        "Watch out that you don't accidentally change the original DataFrame using a shallow copy."
      ]
    },
    {
      "cell_type": "code",
      "metadata": {
        "id": "5idMwLSuGXhR"
      },
      "source": [
        "# Create two new deep copies of the data frame\n",
        "df1 = df.copy(deep=True)\n",
        "df2 = df.copy(deep=True)\n",
        "\n",
        "for i in range(len(df1)):\n",
        "    df2[\"Rooms\"] += 1"
      ],
      "execution_count": 23,
      "outputs": []
    },
    {
      "cell_type": "code",
      "source": [
        "df[\"Rooms\"].head()"
      ],
      "metadata": {
        "colab": {
          "base_uri": "https://localhost:8080/"
        },
        "id": "WNN0VQAPl1mH",
        "outputId": "99b0c0fe-40d3-46f7-b751-d70c599cc19c"
      },
      "execution_count": 24,
      "outputs": [
        {
          "output_type": "execute_result",
          "data": {
            "text/plain": [
              "0    2\n",
              "1    2\n",
              "2    3\n",
              "3    3\n",
              "4    4\n",
              "Name: Rooms, dtype: int64"
            ]
          },
          "metadata": {},
          "execution_count": 24
        }
      ]
    },
    {
      "cell_type": "code",
      "source": [
        "df1[\"Rooms\"].head()"
      ],
      "metadata": {
        "colab": {
          "base_uri": "https://localhost:8080/"
        },
        "id": "Ryu8e0hEl4I2",
        "outputId": "be8bf3bd-2bec-4c0c-c6bb-97e16e0fdcb8"
      },
      "execution_count": 25,
      "outputs": [
        {
          "output_type": "execute_result",
          "data": {
            "text/plain": [
              "0    2\n",
              "1    2\n",
              "2    3\n",
              "3    3\n",
              "4    4\n",
              "Name: Rooms, dtype: int64"
            ]
          },
          "metadata": {},
          "execution_count": 25
        }
      ]
    },
    {
      "cell_type": "code",
      "source": [
        "df2[\"Rooms\"].head()"
      ],
      "metadata": {
        "colab": {
          "base_uri": "https://localhost:8080/"
        },
        "id": "1WkeriJBl34A",
        "outputId": "a3fc71d1-0f5d-4b58-be82-48a089af5944"
      },
      "execution_count": 26,
      "outputs": [
        {
          "output_type": "execute_result",
          "data": {
            "text/plain": [
              "0    13582\n",
              "1    13582\n",
              "2    13583\n",
              "3    13583\n",
              "4    13584\n",
              "Name: Rooms, dtype: int64"
            ]
          },
          "metadata": {},
          "execution_count": 26
        }
      ]
    },
    {
      "cell_type": "markdown",
      "metadata": {
        "id": "FygRoLlQX1_6"
      },
      "source": [
        "## Q10- What is the Address of the earliest built house in the data set?\n",
        "\n",
        "This will exercise your DataFrame slicing ability. "
      ]
    },
    {
      "cell_type": "code",
      "metadata": {
        "id": "82HQO9rUX1_7",
        "colab": {
          "base_uri": "https://localhost:8080/"
        },
        "outputId": "cc519ef0-0fe5-4d40-d9e2-9acb31fcb5bf"
      },
      "source": [
        "earliest_house = df[df[\"YearBuilt\"] == df[\"YearBuilt\"].min()]\n",
        "print( earliest_house[\"Address\"].item() )"
      ],
      "execution_count": 27,
      "outputs": [
        {
          "output_type": "stream",
          "name": "stdout",
          "text": [
            "5 Armstrong St\n"
          ]
        }
      ]
    },
    {
      "cell_type": "markdown",
      "metadata": {
        "id": "4N996VLjX1_7"
      },
      "source": [
        "## Q11 - Save a file \n",
        "\n",
        "The council member for Melbourne has asked for the information for their district.  Assume that there are legal restrcitions and we can only provide the council member the Suburb, Price, and Date from the CouncilArea \"Melbourne\" to the council person.  Export the file with only the allowed columns, and do not write and index column.\n",
        "\n",
        "The other half of `read_csv`, is `to_csv`.  Make sure you follow the documentation and only include the columns asked for in the output."
      ]
    },
    {
      "cell_type": "code",
      "metadata": {
        "id": "MM_CwR9tX1_7"
      },
      "source": [
        "df_district = df[ df['CouncilArea'] == 'Melbourne'].copy()"
      ],
      "execution_count": 28,
      "outputs": []
    },
    {
      "cell_type": "code",
      "metadata": {
        "colab": {
          "base_uri": "https://localhost:8080/",
          "height": 411
        },
        "id": "-K4Wbqc1_7mg",
        "outputId": "9d3f0866-07f5-46f3-d2d5-df2c53f9bf7f"
      },
      "source": [
        "df_council = df_district[['Suburb', 'Price', 'Date']]\n",
        "df_council"
      ],
      "execution_count": 29,
      "outputs": [
        {
          "output_type": "execute_result",
          "data": {
            "text/html": [
              "\n",
              "  <div id=\"df-758411d2-d5ff-4329-ba85-a707a214d752\">\n",
              "    <div class=\"colab-df-container\">\n",
              "      <div>\n",
              "<style scoped>\n",
              "    .dataframe tbody tr th:only-of-type {\n",
              "        vertical-align: middle;\n",
              "    }\n",
              "\n",
              "    .dataframe tbody tr th {\n",
              "        vertical-align: top;\n",
              "    }\n",
              "\n",
              "    .dataframe thead th {\n",
              "        text-align: right;\n",
              "    }\n",
              "</style>\n",
              "<table border=\"1\" class=\"dataframe\">\n",
              "  <thead>\n",
              "    <tr style=\"text-align: right;\">\n",
              "      <th></th>\n",
              "      <th>Suburb</th>\n",
              "      <th>Price</th>\n",
              "      <th>Date</th>\n",
              "    </tr>\n",
              "  </thead>\n",
              "  <tbody>\n",
              "    <tr>\n",
              "      <th>2644</th>\n",
              "      <td>Flemington</td>\n",
              "      <td>957000.0</td>\n",
              "      <td>22/05/2016</td>\n",
              "    </tr>\n",
              "    <tr>\n",
              "      <th>3506</th>\n",
              "      <td>Kensington</td>\n",
              "      <td>785000.0</td>\n",
              "      <td>3/09/2016</td>\n",
              "    </tr>\n",
              "    <tr>\n",
              "      <th>3507</th>\n",
              "      <td>Kensington</td>\n",
              "      <td>852000.0</td>\n",
              "      <td>3/09/2016</td>\n",
              "    </tr>\n",
              "    <tr>\n",
              "      <th>3508</th>\n",
              "      <td>Kensington</td>\n",
              "      <td>1037000.0</td>\n",
              "      <td>3/09/2016</td>\n",
              "    </tr>\n",
              "    <tr>\n",
              "      <th>3509</th>\n",
              "      <td>Kensington</td>\n",
              "      <td>775000.0</td>\n",
              "      <td>3/12/2016</td>\n",
              "    </tr>\n",
              "    <tr>\n",
              "      <th>...</th>\n",
              "      <td>...</td>\n",
              "      <td>...</td>\n",
              "      <td>...</td>\n",
              "    </tr>\n",
              "    <tr>\n",
              "      <th>12073</th>\n",
              "      <td>Melbourne</td>\n",
              "      <td>565000.0</td>\n",
              "      <td>29/07/2017</td>\n",
              "    </tr>\n",
              "    <tr>\n",
              "      <th>12074</th>\n",
              "      <td>Melbourne</td>\n",
              "      <td>540000.0</td>\n",
              "      <td>29/07/2017</td>\n",
              "    </tr>\n",
              "    <tr>\n",
              "      <th>12104</th>\n",
              "      <td>North Melbourne</td>\n",
              "      <td>681000.0</td>\n",
              "      <td>29/07/2017</td>\n",
              "    </tr>\n",
              "    <tr>\n",
              "      <th>12105</th>\n",
              "      <td>North Melbourne</td>\n",
              "      <td>1803000.0</td>\n",
              "      <td>29/07/2017</td>\n",
              "    </tr>\n",
              "    <tr>\n",
              "      <th>12166</th>\n",
              "      <td>Southbank</td>\n",
              "      <td>732000.0</td>\n",
              "      <td>29/07/2017</td>\n",
              "    </tr>\n",
              "  </tbody>\n",
              "</table>\n",
              "<p>470 rows × 3 columns</p>\n",
              "</div>\n",
              "      <button class=\"colab-df-convert\" onclick=\"convertToInteractive('df-758411d2-d5ff-4329-ba85-a707a214d752')\"\n",
              "              title=\"Convert this dataframe to an interactive table.\"\n",
              "              style=\"display:none;\">\n",
              "        \n",
              "  <svg xmlns=\"http://www.w3.org/2000/svg\" height=\"24px\"viewBox=\"0 0 24 24\"\n",
              "       width=\"24px\">\n",
              "    <path d=\"M0 0h24v24H0V0z\" fill=\"none\"/>\n",
              "    <path d=\"M18.56 5.44l.94 2.06.94-2.06 2.06-.94-2.06-.94-.94-2.06-.94 2.06-2.06.94zm-11 1L8.5 8.5l.94-2.06 2.06-.94-2.06-.94L8.5 2.5l-.94 2.06-2.06.94zm10 10l.94 2.06.94-2.06 2.06-.94-2.06-.94-.94-2.06-.94 2.06-2.06.94z\"/><path d=\"M17.41 7.96l-1.37-1.37c-.4-.4-.92-.59-1.43-.59-.52 0-1.04.2-1.43.59L10.3 9.45l-7.72 7.72c-.78.78-.78 2.05 0 2.83L4 21.41c.39.39.9.59 1.41.59.51 0 1.02-.2 1.41-.59l7.78-7.78 2.81-2.81c.8-.78.8-2.07 0-2.86zM5.41 20L4 18.59l7.72-7.72 1.47 1.35L5.41 20z\"/>\n",
              "  </svg>\n",
              "      </button>\n",
              "      \n",
              "  <style>\n",
              "    .colab-df-container {\n",
              "      display:flex;\n",
              "      flex-wrap:wrap;\n",
              "      gap: 12px;\n",
              "    }\n",
              "\n",
              "    .colab-df-convert {\n",
              "      background-color: #E8F0FE;\n",
              "      border: none;\n",
              "      border-radius: 50%;\n",
              "      cursor: pointer;\n",
              "      display: none;\n",
              "      fill: #1967D2;\n",
              "      height: 32px;\n",
              "      padding: 0 0 0 0;\n",
              "      width: 32px;\n",
              "    }\n",
              "\n",
              "    .colab-df-convert:hover {\n",
              "      background-color: #E2EBFA;\n",
              "      box-shadow: 0px 1px 2px rgba(60, 64, 67, 0.3), 0px 1px 3px 1px rgba(60, 64, 67, 0.15);\n",
              "      fill: #174EA6;\n",
              "    }\n",
              "\n",
              "    [theme=dark] .colab-df-convert {\n",
              "      background-color: #3B4455;\n",
              "      fill: #D2E3FC;\n",
              "    }\n",
              "\n",
              "    [theme=dark] .colab-df-convert:hover {\n",
              "      background-color: #434B5C;\n",
              "      box-shadow: 0px 1px 3px 1px rgba(0, 0, 0, 0.15);\n",
              "      filter: drop-shadow(0px 1px 2px rgba(0, 0, 0, 0.3));\n",
              "      fill: #FFFFFF;\n",
              "    }\n",
              "  </style>\n",
              "\n",
              "      <script>\n",
              "        const buttonEl =\n",
              "          document.querySelector('#df-758411d2-d5ff-4329-ba85-a707a214d752 button.colab-df-convert');\n",
              "        buttonEl.style.display =\n",
              "          google.colab.kernel.accessAllowed ? 'block' : 'none';\n",
              "\n",
              "        async function convertToInteractive(key) {\n",
              "          const element = document.querySelector('#df-758411d2-d5ff-4329-ba85-a707a214d752');\n",
              "          const dataTable =\n",
              "            await google.colab.kernel.invokeFunction('convertToInteractive',\n",
              "                                                     [key], {});\n",
              "          if (!dataTable) return;\n",
              "\n",
              "          const docLinkHtml = 'Like what you see? Visit the ' +\n",
              "            '<a target=\"_blank\" href=https://colab.research.google.com/notebooks/data_table.ipynb>data table notebook</a>'\n",
              "            + ' to learn more about interactive tables.';\n",
              "          element.innerHTML = '';\n",
              "          dataTable['output_type'] = 'display_data';\n",
              "          await google.colab.output.renderOutput(dataTable, element);\n",
              "          const docLink = document.createElement('div');\n",
              "          docLink.innerHTML = docLinkHtml;\n",
              "          element.appendChild(docLink);\n",
              "        }\n",
              "      </script>\n",
              "    </div>\n",
              "  </div>\n",
              "  "
            ],
            "text/plain": [
              "                Suburb      Price        Date\n",
              "2644        Flemington   957000.0  22/05/2016\n",
              "3506        Kensington   785000.0   3/09/2016\n",
              "3507        Kensington   852000.0   3/09/2016\n",
              "3508        Kensington  1037000.0   3/09/2016\n",
              "3509        Kensington   775000.0   3/12/2016\n",
              "...                ...        ...         ...\n",
              "12073        Melbourne   565000.0  29/07/2017\n",
              "12074        Melbourne   540000.0  29/07/2017\n",
              "12104  North Melbourne   681000.0  29/07/2017\n",
              "12105  North Melbourne  1803000.0  29/07/2017\n",
              "12166        Southbank   732000.0  29/07/2017\n",
              "\n",
              "[470 rows x 3 columns]"
            ]
          },
          "metadata": {},
          "execution_count": 29
        }
      ]
    },
    {
      "cell_type": "code",
      "metadata": {
        "colab": {
          "base_uri": "https://localhost:8080/"
        },
        "id": "gR0KqUQsB2lP",
        "outputId": "eb83090d-276e-41ce-b9e9-19e57d31c9fd"
      },
      "source": [
        "from google.colab import drive\n",
        "drive.mount('/content/drive')\n",
        "\n",
        "import os\n",
        "os.chdir(\"/content/drive/My Drive/CS329E_data_analytics\")"
      ],
      "execution_count": 30,
      "outputs": [
        {
          "output_type": "stream",
          "name": "stdout",
          "text": [
            "Mounted at /content/drive\n"
          ]
        }
      ]
    },
    {
      "cell_type": "code",
      "metadata": {
        "id": "ZunXZkxJEi3_"
      },
      "source": [
        "df_council.to_csv('hw1.csv')"
      ],
      "execution_count": 31,
      "outputs": []
    }
  ]
}