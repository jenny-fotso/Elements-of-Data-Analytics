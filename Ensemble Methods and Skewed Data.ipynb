{
  "nbformat": 4,
  "nbformat_minor": 0,
  "metadata": {
    "kernelspec": {
      "display_name": "Python 3",
      "language": "python",
      "name": "python3"
    },
    "language_info": {
      "codemirror_mode": {
        "name": "ipython",
        "version": 3
      },
      "file_extension": ".py",
      "mimetype": "text/x-python",
      "name": "python",
      "nbconvert_exporter": "python",
      "pygments_lexer": "ipython3",
      "version": "3.8.3"
    },
    "colab": {
      "name": "CS329E_HW8.ipynb",
      "provenance": [],
      "collapsed_sections": []
    }
  },
  "cells": [
    {
      "cell_type": "markdown",
      "metadata": {
        "id": "Pc0-tdC10va6"
      },
      "source": [
        "## C S 329E HW7\n",
        "\n",
        "# Ensemble Methods and Skewed Data\n",
        "\n",
        "## Group 51: Medhavie Agnihotri and Jenny Fotso\n",
        "\n",
        "For this week's homework we are going explore two ensemble methods:\n",
        "\n",
        "  - AdaBoost, and\n",
        "  - Random Forests\n",
        "  \n",
        "Along with applying different KPIs (key performance indicators) that are more appropriate to highly skewed data sets. \n",
        "\n",
        "The dataset contains transactions made by credit cards in September 2013 by european cardholders.\n",
        "This dataset presents transactions that occurred in two days, where we have 237 frauds out of 142,167 transactions. The dataset is highly unbalanced, the positive class (frauds) account for 0.17% of all transactions.\n",
        "\n",
        "It contains only numerical input variables which are the result of a [PCA transformation](https://en.wikipedia.org/wiki/Principal_component_analysis). Unfortunately, due to confidentiality issues, they cannot provide the original features and more background information about the data. Features V1, V2, … V28 are the principal components obtained with PCA, the only features which have not been transformed with PCA are 'Time' and 'Amount'. Feature 'Time' contains the seconds elapsed between each transaction and the first transaction in the dataset. The feature 'Amount' is the transaction Amount in Euros. Feature 'Class' is the response variable and it takes value 1 in case of fraud and 0 otherwise.\n",
        "\n",
        "At the end of this homework, I expect you to understand how to train and use ensemble classifiers, how to characterize model performance with ROC curves, and be familiar with the difference between accuracy, true positive rate, and positive predictive value. "
      ]
    },
    {
      "cell_type": "code",
      "metadata": {
        "id": "AIIG_Qv30va_"
      },
      "source": [
        "# These are the libraries you will use for this assignment, you may not import anything else\n",
        "import pandas as pd\n",
        "import numpy as np\n",
        "import matplotlib.pyplot as plt\n",
        "from sklearn.ensemble import AdaBoostClassifier\n",
        "from sklearn.ensemble import RandomForestClassifier\n",
        "from sklearn.model_selection import StratifiedKFold\n",
        "from sklearn.metrics import plot_roc_curve\n",
        "\n",
        "# This is the credit card data provided, we'll use sklearn methods to do cross validation\n",
        "# to estimate error\n",
        "df_cc = pd.read_csv('https://www.cs.utexas.edu/~chaney/cc.csv')"
      ],
      "execution_count": 7,
      "outputs": []
    },
    {
      "cell_type": "markdown",
      "metadata": {
        "id": "sV8Lw-Xc0vbA"
      },
      "source": [
        "## Q1 Parition the data for cross validation\n",
        "\n",
        "Load the data, and split the data set into $X$ (the feature dataframe, `df_X`) and $y$ (the target series `s_y`). Define our partitions.  \n",
        "\n",
        "We know this is a _super_ skewed data set, so we worry about our target class being underrepresented in a random k-fold selection. With this in mind, we use a [stratifed k-fold](https://scikit-learn.org/stable/modules/generated/sklearn.model_selection.StratifiedKFold.html), since it will preserve our class balance in our experiements. Use $k=3$, . Instantiate an instance of the `StratifiedKFold` class, and use the generator `split` to populate the following dictonaries:\n",
        "   - `d_train_df_X` : where the key is the fold number, and the value is the attribute training dataframe at that fold\n",
        "   - `d_test_df_X`  : where the key is the fold number, and the value is the attribute test dataframe at that fold\n",
        "   - `d_train_s_y`  : where the key is the fold number, and the value is the target training series at that fold\n",
        "   - `d_train_s_y`  : where the key is the fold number, and the value is the target test series at that fold"
      ]
    },
    {
      "cell_type": "code",
      "metadata": {
        "id": "3sHfNAci0vbA"
      },
      "source": [
        "df_X = df_cc.drop(columns=['Class'])\n",
        "s_y = df_cc['Class']"
      ],
      "execution_count": 22,
      "outputs": []
    },
    {
      "cell_type": "code",
      "metadata": {
        "id": "p8K4LLES0vbB",
        "colab": {
          "base_uri": "https://localhost:8080/"
        },
        "outputId": "7a8447db-ee78-44d9-aa31-8d0189f0b2cb"
      },
      "source": [
        "skf = StratifiedKFold(n_splits=3, shuffle=True, random_state=23)\n",
        "\n",
        "for train_index, test_index in skf.split(df_X, s_y):\n",
        "    print(\"TRAIN:\", train_index, \"TEST:\", test_index)"
      ],
      "execution_count": 23,
      "outputs": [
        {
          "output_type": "stream",
          "name": "stdout",
          "text": [
            "TRAIN: [     2      3      4 ... 142400 142402 142403] TEST: [     0      1      8 ... 142397 142399 142401]\n",
            "TRAIN: [     0      1      2 ... 142401 142402 142403] TEST: [     5      6      7 ... 142389 142398 142400]\n",
            "TRAIN: [     0      1      5 ... 142399 142400 142401] TEST: [     2      3      4 ... 142396 142402 142403]\n"
          ]
        }
      ]
    },
    {
      "cell_type": "code",
      "metadata": {
        "id": "xQYF1qLc0vbB"
      },
      "source": [
        "d_train_df_X = dict()\n",
        "d_test_df_X = dict()\n",
        "d_train_s_y = dict()\n",
        "d_test_s_y = dict()"
      ],
      "execution_count": 24,
      "outputs": []
    },
    {
      "cell_type": "code",
      "source": [
        "folds = skf.split(df_X, s_y)\n",
        "count = 0;\n",
        "\n",
        "# Assign values to each fold in the dictionaries\n",
        "for train_index, test_index in folds:\n",
        "    d_train_df_X[count] = df_X.iloc[train_index]\n",
        "    d_test_df_X[count] = df_X.iloc[test_index]\n",
        "    d_train_s_y[count] = s_y.iloc[train_index]\n",
        "    d_test_s_y[count] = s_y.iloc[test_index]\n",
        "    count += 1"
      ],
      "metadata": {
        "id": "4Elk02Be5k0O"
      },
      "execution_count": 25,
      "outputs": []
    },
    {
      "cell_type": "code",
      "metadata": {
        "scrolled": true,
        "id": "WKyVrDi30vbC",
        "colab": {
          "base_uri": "https://localhost:8080/"
        },
        "outputId": "beb386a6-12cf-4bed-9dcd-bab36fcfa166"
      },
      "source": [
        "# Look at the test data and verify that the target training is equally distributed as possible\n",
        "for key in d_test_s_y.keys():\n",
        "    print(\"Fold #\" + str(key))\n",
        "    print(d_test_s_y[key].value_counts())\n",
        "    print()"
      ],
      "execution_count": 26,
      "outputs": [
        {
          "output_type": "stream",
          "name": "stdout",
          "text": [
            "Fold #0\n",
            "0    47389\n",
            "1       79\n",
            "Name: Class, dtype: int64\n",
            "\n",
            "Fold #1\n",
            "0    47389\n",
            "1       79\n",
            "Name: Class, dtype: int64\n",
            "\n",
            "Fold #2\n",
            "0    47389\n",
            "1       79\n",
            "Name: Class, dtype: int64\n",
            "\n"
          ]
        }
      ]
    },
    {
      "cell_type": "markdown",
      "metadata": {
        "id": "RgKTCPZn0vbC"
      },
      "source": [
        "## Section 1 - AdaBoost"
      ]
    },
    {
      "cell_type": "markdown",
      "metadata": {
        "id": "aBiszvo40vbD"
      },
      "source": [
        "# Q2 Test the Performance of AdaBoost\n",
        "\n",
        "When we talked about AdaBoost in class, we used a collection of \"Decision Stumps\". In this assignment, we will use the implementation of [AdaBoost in Scikit-learn](https://scikit-learn.org/stable/modules/generated/sklearn.ensemble.AdaBoostClassifier.html).  As you browse the documentation, you will notice that the default base esimator in this implentation is a `DecisionTreeClassifier(max_depth=1)` (our friend the decision stump). \n",
        "\n",
        "After you fit an AdaBoost model, you can call the method `predict` to get a class prediction, or you can call `predict_proba` to get the probability of being in the class `0` or the class `1`. These probabilities are used when creating ROC curves. \n",
        "\n",
        "Loop over the $k$ folds using the dictionaries from the first problem, and for each fold calculate the accuracy, TPR, the PPV, and the FPR (feel free to create helper functions to calcuate these metrics - do not use a library function to compute these metrics).  Plot the ROC curve for each fold. You may use the [plot roc curve](https://scikit-learn.org/stable/modules/generated/sklearn.metrics.plot_roc_curve.html) from Scikit-learn.  There is a great example in the documentation [on plotting ROC curves in cross validation](https://scikit-learn.org/stable/auto_examples/model_selection/plot_roc_crossval.html) that is helpful.  \n",
        "\n",
        "When creating your AdaBoost classifier, please use the following parameters: \n",
        "`AdaBoostClassifier(n_estimators=25, random_state=23)`\n",
        "\n",
        "Save the predictions from the 3rd fold into a variable called `y_hat_ab` for use in a future problem.\n"
      ]
    },
    {
      "cell_type": "code",
      "metadata": {
        "id": "JTGnr8Hyl27P"
      },
      "source": [
        "def calcAccuracy(ytrue, ypred):\n",
        "  count = 0 \n",
        "  index = 0\n",
        "  totallen = len(ypred)\n",
        "  for val in ytrue:\n",
        "    if val == ypred[index]:\n",
        "      count = count + 1\n",
        "    index = index + 1\n",
        "  return count/totallen"
      ],
      "execution_count": 12,
      "outputs": []
    },
    {
      "cell_type": "code",
      "metadata": {
        "id": "n2APPthMl7Cz"
      },
      "source": [
        "def calcTpr(ytrue, ypred):\n",
        "  tp = 0\n",
        "  fn = 0\n",
        "  index = 0 \n",
        "  for val in ytrue:\n",
        "    if val == 1 and val == ypred[index]:\n",
        "      tp = tp + 1\n",
        "    if ypred[index] == 0 and val == 1:\n",
        "      fn = fn + 1\n",
        "    index = index + 1\n",
        "\n",
        "  return tp/(tp+fn)"
      ],
      "execution_count": 13,
      "outputs": []
    },
    {
      "cell_type": "code",
      "metadata": {
        "id": "g58EB30alzDt"
      },
      "source": [
        "def calcPpv(ytrue, ypred):\n",
        "  tp = 0\n",
        "  fp = 0\n",
        "  index = 0 \n",
        "  for val in ytrue:\n",
        "    if val == 1 and val == ypred[index]:\n",
        "      tp = tp + 1\n",
        "    if ypred[index] == 1 and val == 0:\n",
        "      fp = fp + 1\n",
        "    index = index + 1\n",
        "\n",
        "  return tp/(tp+fp)"
      ],
      "execution_count": 14,
      "outputs": []
    },
    {
      "cell_type": "code",
      "metadata": {
        "id": "DxRc9KV4mECa"
      },
      "source": [
        "def calcFpr(ytrue, ypred):\n",
        "  tn = 0\n",
        "  fn = 0\n",
        "  index = 0 \n",
        "  for val in ytrue:\n",
        "    if val == 0 and val == ypred[index]:\n",
        "      tn = tn + 1\n",
        "    if ypred[index] == 0 and val == 1:\n",
        "      fn = fn + 1\n",
        "    index = index + 1\n",
        "\n",
        "  return tn/(tn+fn)"
      ],
      "execution_count": 15,
      "outputs": []
    },
    {
      "cell_type": "code",
      "metadata": {
        "id": "1CH_Ec9G0vbD"
      },
      "source": [
        "k = 3\n",
        "acc_ab = np.zeros(k)\n",
        "tpr_ab = np.zeros(k)\n",
        "ppv_ab = np.zeros(k)\n",
        "fpr_ab = np.zeros(k)"
      ],
      "execution_count": 16,
      "outputs": []
    },
    {
      "cell_type": "code",
      "metadata": {
        "id": "3pE-HrIv0vbE",
        "colab": {
          "base_uri": "https://localhost:8080/",
          "height": 969
        },
        "outputId": "a1dd4de8-d2dc-411d-ee3b-1c5587b1d164"
      },
      "source": [
        "# Iterate through each fold\n",
        "for key in d_test_s_y.keys(): \n",
        "    # Create AdaBoost Classifier\n",
        "    abc = AdaBoostClassifier(n_estimators=25, random_state=23)\n",
        "    \n",
        "    # Pull training and test data from dictionaries\n",
        "    train_X = d_train_df_X[key]\n",
        "    test_X = d_test_df_X[key]\n",
        "    train_y = d_train_s_y[key]\n",
        "    test_y = d_test_s_y[key]\n",
        "    \n",
        "    # Fit the model and use it to predict values\n",
        "    abc.fit(train_X, train_y)\n",
        "    predict_y = abc.predict(test_X)\n",
        "    \n",
        "    if (key == 2):\n",
        "        y_hat_ab = predict_y\n",
        "        \n",
        "    # Calculate performance of model\n",
        "    ACC = 0;\n",
        "    TP = 0;\n",
        "    FN = 0;\n",
        "    FP = 0;\n",
        "    TN = 0;\n",
        "    for i in range(len(predict_y)):\n",
        "        if predict_y[i] == 1:\n",
        "            if test_y.iloc[i] == 1:\n",
        "                TP += 1\n",
        "                ACC += 1\n",
        "            else:\n",
        "                FP += 1\n",
        "        else:\n",
        "            if test_y.iloc[i] == 0:\n",
        "                TN += 1\n",
        "                ACC += 1\n",
        "            else:\n",
        "                FN += 1\n",
        "    acc_ab[key] = ACC/(TP+FP+TN+FN)\n",
        "    tpr_ab[key] = TP/(TP+FN)\n",
        "    ppv_ab[key] = TP/(TP+FP)\n",
        "    fpr_ab[key] = FP/(FP+TN)\n",
        "    \n",
        "    # Plot ROC curves\n",
        "    plot_roc_curve(abc, test_X, test_y, name=\"ROC Curve\")\n",
        "    plt.title(\"ROC Curve for Fold \" + str(key) + \" (AdaBoostClassifier)\")\n",
        "    plt.show()"
      ],
      "execution_count": 27,
      "outputs": [
        {
          "output_type": "stream",
          "name": "stderr",
          "text": [
            "/usr/local/lib/python3.7/dist-packages/sklearn/utils/deprecation.py:87: FutureWarning: Function plot_roc_curve is deprecated; Function :func:`plot_roc_curve` is deprecated in 1.0 and will be removed in 1.2. Use one of the class methods: :meth:`sklearn.metric.RocCurveDisplay.from_predictions` or :meth:`sklearn.metric.RocCurveDisplay.from_estimator`.\n",
            "  warnings.warn(msg, category=FutureWarning)\n"
          ]
        },
        {
          "output_type": "display_data",
          "data": {
            "image/png": "[encoded data removed]",
            "text/plain": [
              "<Figure size 432x288 with 1 Axes>"
            ]
          },
          "metadata": {
            "needs_background": "light"
          }
        },
        {
          "output_type": "stream",
          "name": "stderr",
          "text": [
            "/usr/local/lib/python3.7/dist-packages/sklearn/utils/deprecation.py:87: FutureWarning: Function plot_roc_curve is deprecated; Function :func:`plot_roc_curve` is deprecated in 1.0 and will be removed in 1.2. Use one of the class methods: :meth:`sklearn.metric.RocCurveDisplay.from_predictions` or :meth:`sklearn.metric.RocCurveDisplay.from_estimator`.\n",
            "  warnings.warn(msg, category=FutureWarning)\n"
          ]
        },
        {
          "output_type": "display_data",
          "data": {
            "image/png": "[encoded data removed]",
            "text/plain": [
              "<Figure size 432x288 with 1 Axes>"
            ]
          },
          "metadata": {
            "needs_background": "light"
          }
        },
        {
          "output_type": "stream",
          "name": "stderr",
          "text": [
            "/usr/local/lib/python3.7/dist-packages/sklearn/utils/deprecation.py:87: FutureWarning: Function plot_roc_curve is deprecated; Function :func:`plot_roc_curve` is deprecated in 1.0 and will be removed in 1.2. Use one of the class methods: :meth:`sklearn.metric.RocCurveDisplay.from_predictions` or :meth:`sklearn.metric.RocCurveDisplay.from_estimator`.\n",
            "  warnings.warn(msg, category=FutureWarning)\n"
          ]
        },
        {
          "output_type": "display_data",
          "data": {
            "image/png": "[encoded data removed]",
            "text/plain": [
              "<Figure size 432x288 with 1 Axes>"
            ]
          },
          "metadata": {
            "needs_background": "light"
          }
        }
      ]
    },
    {
      "cell_type": "code",
      "metadata": {
        "id": "TbQKtc_K0vbE",
        "colab": {
          "base_uri": "https://localhost:8080/"
        },
        "outputId": "b6924838-4e28-41e5-da87-6f2d7f22d034"
      },
      "source": [
        "print('The min, mean, and max TPR are: {:.2f}, {:.2f}, and {:.2f}'.format(tpr_ab.min(), tpr_ab.mean(), tpr_ab.max()))\n",
        "print('The min, mean, and max PPV are: {:.2f}, {:.2f}, and {:.2f}'.format(ppv_ab.min(), ppv_ab.mean(), ppv_ab.max()))\n",
        "print('The min, mean, and max ACC are: {:.2f}, {:.2f}, and {:.2f}'.format(acc_ab.min(), acc_ab.mean(), acc_ab.max()))"
      ],
      "execution_count": 28,
      "outputs": [
        {
          "output_type": "stream",
          "name": "stdout",
          "text": [
            "The min, mean, and max TPR are: 0.62, 0.65, and 0.71\n",
            "The min, mean, and max PPV are: 0.75, 0.79, and 0.82\n",
            "The min, mean, and max ACC are: 1.00, 1.00, and 1.00\n"
          ]
        }
      ]
    },
    {
      "cell_type": "markdown",
      "metadata": {
        "id": "6B3UIBCC0vbE"
      },
      "source": [
        "## Q3 Test the Performance of Random Forests\n",
        "\n",
        "Now, let's try another ensemble method: Random Forests, again using the [Scikit-learn implementation](https://scikit-learn.org/stable/modules/generated/sklearn.ensemble.RandomForestClassifier.html). \n",
        "\n",
        "Following our book, we will build complete trees, with no pruning.  That means every leaf in the tree will be completelely pure, and if you exam an individual Decision Tree it would be overtrained to our training set.  While building the decision trees, at every internal node, we select $p$ attributes at random, and then find the best split that minimizes impurtity.  The value, $p$, is a hyperparamter of the Random Forest and corresponds to the `max_features` parameter in the Random Forest Class. \n",
        "\n",
        "After you fit an RandomForest model, you can call the method `predict` to get a class prediction, or you can call `predict_proba` to get the probability of being in the class `0` or the class `1`. These probabilities are used when creating ROC curves. \n",
        "\n",
        "Loop over the $k$ folds using the dictionaries from the first problem, and for each fold calculate the accuracy, TPR, the PPV, and the FPR (feel free to reuse the functions that you already wrote to calculate these values - do not use a library function to compute these metrics).  Plot the ROC curve for each fold. You may use the [plot roc curve](https://scikit-learn.org/stable/modules/generated/sklearn.metrics.plot_roc_curve.html) from Scikit-learn. There is a great example in the documentation [on plotting ROC curves in cross validation](https://scikit-learn.org/stable/auto_examples/model_selection/plot_roc_crossval.html) that is helpful.  \n",
        "\n",
        "When creating your Random Forest classifier, please use the following parameters: \n",
        "`RandomForestClassifier(criterion=\"entropy\", max_features=\"sqrt\", random_state=23)`\n",
        "\n",
        "Save the predictions from the 3rd fold into a variable called `y_hat_rf` for use in a future problem."
      ]
    },
    {
      "cell_type": "code",
      "metadata": {
        "id": "knZax5_10vbE"
      },
      "source": [
        "k = 3\n",
        "acc_rf = np.zeros(k)\n",
        "tpr_rf = np.zeros(k)\n",
        "ppv_rf = np.zeros(k)\n",
        "fpr_rf = np.zeros(k)"
      ],
      "execution_count": 29,
      "outputs": []
    },
    {
      "cell_type": "code",
      "metadata": {
        "id": "SL-uXnC10vbF",
        "colab": {
          "base_uri": "https://localhost:8080/",
          "height": 969
        },
        "outputId": "18fe995b-76d5-4763-9829-dc705aede3a4"
      },
      "source": [
        "# Iterate through each fold\n",
        "for key in d_test_s_y.keys(): \n",
        "    # Create Random Forest Classifier\n",
        "    rfc = RandomForestClassifier(criterion=\"entropy\", max_features=\"sqrt\", random_state=23)\n",
        "    \n",
        "    # Pull training and test data from dictionaries\n",
        "    train_X = d_train_df_X[key]\n",
        "    test_X = d_test_df_X[key]\n",
        "    train_y = d_train_s_y[key]\n",
        "    test_y = d_test_s_y[key]\n",
        "    \n",
        "    # Fit the model and use it to predict values\n",
        "    rfc.fit(train_X, train_y)\n",
        "    predict_y = rfc.predict(test_X)\n",
        "    \n",
        "    if (key == 2):\n",
        "        y_hat_rf = predict_y\n",
        "        \n",
        "    # Calculate performance of model\n",
        "    ACC = 0;\n",
        "    TP = 0;\n",
        "    FN = 0;\n",
        "    FP = 0;\n",
        "    TN = 0;\n",
        "    for i in range(len(predict_y)):\n",
        "        if predict_y[i] == 1:\n",
        "            if test_y.iloc[i] == 1:\n",
        "                TP += 1\n",
        "                ACC += 1\n",
        "            else:\n",
        "                FP += 1\n",
        "        else:\n",
        "            if test_y.iloc[i] == 0:\n",
        "                TN += 1\n",
        "                ACC += 1\n",
        "            else:\n",
        "                FN += 1\n",
        "    acc_rf[key] = ACC/(TP+FP+TN+FN)\n",
        "    tpr_rf[key] = TP/(TP+FN)\n",
        "    ppv_rf[key] = TP/(TP+FP)\n",
        "    fpr_rf[key] = FP/(FP+TN)\n",
        "    \n",
        "    # Plot ROC curves\n",
        "    plot_roc_curve(rfc, test_X, test_y, name=\"ROC Curve\")\n",
        "    plt.title(\"ROC Curve for Fold \" + str(key) + \" (RandomForestClassifier)\")\n",
        "    plt.show()"
      ],
      "execution_count": 30,
      "outputs": [
        {
          "output_type": "stream",
          "name": "stderr",
          "text": [
            "/usr/local/lib/python3.7/dist-packages/sklearn/utils/deprecation.py:87: FutureWarning: Function plot_roc_curve is deprecated; Function :func:`plot_roc_curve` is deprecated in 1.0 and will be removed in 1.2. Use one of the class methods: :meth:`sklearn.metric.RocCurveDisplay.from_predictions` or :meth:`sklearn.metric.RocCurveDisplay.from_estimator`.\n",
            "  warnings.warn(msg, category=FutureWarning)\n"
          ]
        },
        {
          "output_type": "display_data",
          "data": {
            "image/png": "[encoded data removed]",
            "text/plain": [
              "<Figure size 432x288 with 1 Axes>"
            ]
          },
          "metadata": {
            "needs_background": "light"
          }
        },
        {
          "output_type": "stream",
          "name": "stderr",
          "text": [
            "/usr/local/lib/python3.7/dist-packages/sklearn/utils/deprecation.py:87: FutureWarning: Function plot_roc_curve is deprecated; Function :func:`plot_roc_curve` is deprecated in 1.0 and will be removed in 1.2. Use one of the class methods: :meth:`sklearn.metric.RocCurveDisplay.from_predictions` or :meth:`sklearn.metric.RocCurveDisplay.from_estimator`.\n",
            "  warnings.warn(msg, category=FutureWarning)\n"
          ]
        },
        {
          "output_type": "display_data",
          "data": {
            "image/png": "[encoded data removed]",
            "text/plain": [
              "<Figure size 432x288 with 1 Axes>"
            ]
          },
          "metadata": {
            "needs_background": "light"
          }
        },
        {
          "output_type": "stream",
          "name": "stderr",
          "text": [
            "/usr/local/lib/python3.7/dist-packages/sklearn/utils/deprecation.py:87: FutureWarning: Function plot_roc_curve is deprecated; Function :func:`plot_roc_curve` is deprecated in 1.0 and will be removed in 1.2. Use one of the class methods: :meth:`sklearn.metric.RocCurveDisplay.from_predictions` or :meth:`sklearn.metric.RocCurveDisplay.from_estimator`.\n",
            "  warnings.warn(msg, category=FutureWarning)\n"
          ]
        },
        {
          "output_type": "display_data",
          "data": {
            "image/png": "[encoded data removed]",
            "text/plain": [
              "<Figure size 432x288 with 1 Axes>"
            ]
          },
          "metadata": {
            "needs_background": "light"
          }
        }
      ]
    },
    {
      "cell_type": "code",
      "metadata": {
        "id": "d5Drp2A20vbF",
        "colab": {
          "base_uri": "https://localhost:8080/"
        },
        "outputId": "97dcff62-1d96-4f80-bc47-eb5883e55fd9"
      },
      "source": [
        "print('The min, mean, and max TPR are: {:.2f}, {:.2f}, and {:.2f}'.format(tpr_rf.min(), tpr_rf.mean(), tpr_rf.max()))\n",
        "print('The min, mean, and max PPV are: {:.2f}, {:.2f}, and {:.2f}'.format(ppv_rf.min(), ppv_rf.mean(), ppv_rf.max()))\n",
        "print('The min, mean, and max ACC are: {:.2f}, {:.2f}, and {:.2f}'.format(acc_rf.min(), acc_rf.mean(), acc_rf.max()))"
      ],
      "execution_count": 31,
      "outputs": [
        {
          "output_type": "stream",
          "name": "stdout",
          "text": [
            "The min, mean, and max TPR are: 0.75, 0.78, and 0.80\n",
            "The min, mean, and max PPV are: 0.92, 0.93, and 0.95\n",
            "The min, mean, and max ACC are: 1.00, 1.00, and 1.00\n"
          ]
        }
      ]
    },
    {
      "cell_type": "markdown",
      "metadata": {
        "id": "1XU70_Mf0vbF"
      },
      "source": [
        "# Q4 Calculate the Cost of Fraud \n",
        "\n",
        "In the above problems, we saved the predictions of the 3rd fold into the variables `y_hat_ab` and `y_hat_rf` for the AdaBoost and RandomForest models respectively. \n",
        "\n",
        "Now, Mr. Bank Man wants you to tell him how much money he is going to save if he deploys either of these fraud algorithms to the real-time payment processing system.  Assume that there is not a currently deployed fraud detection algorithm.  \n",
        "\n",
        "For every fraudulent transaction that is not predicted as fraudulent the bank looses twice the value of the transaction.  So, if a fradulent charge for €10 is undectected, it costs the bank €20.  Also, if a charge is predicted as fradulent, but wasn't, it costs the bank a flat fee of €3 in customer service support to communicate with the customer, and mark the possible fraud as a normal transaction. \n",
        "\n",
        "Using the 3rd fold test sample, calculate how much money Mr Bank Man will save by deploying each algorithm, and make a recommendation of which algorithm to deploy to production.  To calculate savings to the bank, you must first calculate the cost of the status quo, which is having no algorithm deployed. "
      ]
    },
    {
      "cell_type": "code",
      "metadata": {
        "id": "i5hYCvdK0vbF",
        "colab": {
          "base_uri": "https://localhost:8080/"
        },
        "outputId": "ead8b41d-33d3-4279-f970-734a031378ab"
      },
      "source": [
        "test_X = d_test_df_X[2]\n",
        "test_y = d_test_s_y[2]\n",
        "\n",
        "# Find number of original fraudulent transactions\n",
        "num_fraud = test_y.value_counts()[1]\n",
        "print(\"Original Cost of Fraudulent Transactions: $\" + str(num_fraud * 20))\n",
        "\n",
        "# Find number of discovered fraudulent transactions\n",
        "cost_ab = 0\n",
        "cost_rf = 0\n",
        "for i in range(len(test_y)):\n",
        "    if (test_y.iloc[i] == 1):\n",
        "        if (y_hat_ab[i] == 0):\n",
        "            cost_ab += 20\n",
        "        if (y_hat_rf[i] == 0):\n",
        "            cost_rf += 20\n",
        "    if (y_hat_ab[i] == 1 and test_y.iloc[i] == 0):\n",
        "        cost_ab += 3\n",
        "    if (y_hat_rf[i] == 1 and test_y.iloc[i] == 0):\n",
        "        cost_rf += 3\n",
        "        \n",
        "print(\"Cost after Applying AdaBoost Classifier: $\" + str(cost_ab))\n",
        "print(\"Cost after Applying Random Forest Classifier: $\" + str(cost_rf))"
      ],
      "execution_count": 32,
      "outputs": [
        {
          "output_type": "stream",
          "name": "stdout",
          "text": [
            "Original Cost of Fraudulent Transactions: $1580\n",
            "Cost after Applying AdaBoost Classifier: $502\n",
            "Cost after Applying Random Forest Classifier: $349\n"
          ]
        }
      ]
    },
    {
      "cell_type": "markdown",
      "metadata": {
        "id": "6x_Zz5Hs0vbF"
      },
      "source": [
        "➡️ YOUR ANSWER HERE Mr Bank man will \\[save|lose\\] money, if we deploy the ___ algorithm! YOUR ANSWER HERE ⬅️"
      ]
    },
    {
      "cell_type": "code",
      "metadata": {
        "id": "DCgHcVW-0vbG",
        "colab": {
          "base_uri": "https://localhost:8080/"
        },
        "outputId": "7810533e-8257-469d-a855-ba180413dde0"
      },
      "source": [
        "print(\"The bank will save $\" + str(num_fraud * 20 - cost_ab) + \" if we deploy the AdaBoost algorithm!\")\n",
        "print(\"The bank will save $\" + str(num_fraud * 20 - cost_rf) + \" if we deploy the Random Forest algorithm!\")"
      ],
      "execution_count": 33,
      "outputs": [
        {
          "output_type": "stream",
          "name": "stdout",
          "text": [
            "The bank will save $1078 if we deploy the AdaBoost algorithm!\n",
            "The bank will save $1231 if we deploy the Random Forest algorithm!\n"
          ]
        }
      ]
    }
  ]
}